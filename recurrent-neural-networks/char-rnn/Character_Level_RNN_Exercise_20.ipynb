{
 "cells": [
  {
   "cell_type": "markdown",
   "metadata": {},
   "source": [
    "# Character-Level LSTM in PyTorch\n",
    "\n",
    "In this notebook, I'll construct a character-level LSTM with PyTorch. The network will train character by character on some text, then generate new text character by character. As an example, I will train on Anna Karenina. **This model will be able to generate new text based on the text from the book!**\n",
    "\n",
    "This network is based off of Andrej Karpathy's [post on RNNs](http://karpathy.github.io/2015/05/21/rnn-effectiveness/) and [implementation in Torch](https://github.com/karpathy/char-rnn). Below is the general architecture of the character-wise RNN.\n",
    "\n",
    "<img src=\"assets/charseq.jpeg\" width=\"500\">"
   ]
  },
  {
   "cell_type": "markdown",
   "metadata": {},
   "source": [
    "First let's load in our required resources for data loading and model creation."
   ]
  },
  {
   "cell_type": "code",
   "execution_count": 1,
   "metadata": {},
   "outputs": [],
   "source": [
    "import numpy as np\n",
    "import torch\n",
    "from torch import nn\n",
    "import torch.nn.functional as F"
   ]
  },
  {
   "cell_type": "markdown",
   "metadata": {},
   "source": [
    "## Load in Data\n",
    "\n",
    "Then, we'll load the Anna Karenina text file and convert it into integers for our network to use. "
   ]
  },
  {
   "cell_type": "code",
   "execution_count": 2,
   "metadata": {},
   "outputs": [],
   "source": [
    "# open text file and read in data as `text`\n",
    "with open('data/anna.txt', 'r') as f:\n",
    "    text = f.read()"
   ]
  },
  {
   "cell_type": "markdown",
   "metadata": {},
   "source": [
    "Let's check out the first 100 characters, make sure everything is peachy. According to the [American Book Review](http://americanbookreview.org/100bestlines.asp), this is the 6th best first line of a book ever."
   ]
  },
  {
   "cell_type": "code",
   "execution_count": 3,
   "metadata": {},
   "outputs": [
    {
     "data": {
      "text/plain": [
       "'Chapter 1\\n\\n\\nHappy families are all alike; every unhappy family is unhappy in its own\\nway.\\n\\nEverythin'"
      ]
     },
     "execution_count": 3,
     "metadata": {},
     "output_type": "execute_result"
    }
   ],
   "source": [
    "text[:100]"
   ]
  },
  {
   "cell_type": "markdown",
   "metadata": {},
   "source": [
    "### Tokenization\n",
    "\n",
    "In the cells, below, I'm creating a couple **dictionaries** to convert the characters to and from integers. Encoding the characters as integers makes it easier to use as input in the network."
   ]
  },
  {
   "cell_type": "code",
   "execution_count": 8,
   "metadata": {},
   "outputs": [
    {
     "name": "stdout",
     "output_type": "stream",
     "text": [
      "('6', '&', 'a', 't', '.', '$', 'i', 's', '9', 'o', '%', \"'\", 'd', '(', '\\n', '_', '@', ' ', '?', 'I', 'X', 'S', '!', '0', 'F', 'v', 'N', 'b', 'p', 'h', 'E', '-', 'L', 'C', 'G', 'Z', 'O', '7', 'J', 'y', 'K', 'z', 'j', 'n', 'P', 'H', 'U', '/', 'm', 'w', 'g', 'l', 'B', '8', '1', ';', 'u', 'r', 'x', 'V', '`', '5', 'q', ':', 'A', ')', '4', 'c', 'R', 'M', '*', ',', 'e', 'T', '\"', 'f', 'D', 'W', '2', '3', 'Y', 'Q', 'k')\n"
     ]
    }
   ],
   "source": [
    "# encode the text and map each character to an integer and vice versa\n",
    "\n",
    "# we create two dictionaries:\n",
    "# 1. int2char, which maps integers to characters\n",
    "# 2. char2int, which maps characters to unique integers\n",
    "chars = tuple(set(text))\n",
    "print(chars)\n",
    "int2char = dict(enumerate(chars))\n",
    "char2int = {ch: ii for ii, ch in int2char.items()}\n",
    "\n",
    "# encode the text\n",
    "encoded = np.array([char2int[ch] for ch in text])"
   ]
  },
  {
   "cell_type": "markdown",
   "metadata": {},
   "source": [
    "And we can see those same characters from above, encoded as integers."
   ]
  },
  {
   "cell_type": "code",
   "execution_count": 9,
   "metadata": {},
   "outputs": [
    {
     "data": {
      "text/plain": [
       "array([33, 29,  2, 28,  3, 72, 57, 17, 54, 14, 14, 14, 45,  2, 28, 28, 39,\n",
       "       17, 75,  2, 48,  6, 51,  6, 72,  7, 17,  2, 57, 72, 17,  2, 51, 51,\n",
       "       17,  2, 51,  6, 82, 72, 55, 17, 72, 25, 72, 57, 39, 17, 56, 43, 29,\n",
       "        2, 28, 28, 39, 17, 75,  2, 48,  6, 51, 39, 17,  6,  7, 17, 56, 43,\n",
       "       29,  2, 28, 28, 39, 17,  6, 43, 17,  6,  3,  7, 17,  9, 49, 43, 14,\n",
       "       49,  2, 39,  4, 14, 14, 30, 25, 72, 57, 39,  3, 29,  6, 43])"
      ]
     },
     "execution_count": 9,
     "metadata": {},
     "output_type": "execute_result"
    }
   ],
   "source": [
    "encoded[:100]"
   ]
  },
  {
   "cell_type": "markdown",
   "metadata": {},
   "source": [
    "## Pre-processing the data\n",
    "\n",
    "As you can see in our char-RNN image above, our LSTM expects an input that is **one-hot encoded** meaning that each character is converted into an integer (via our created dictionary) and *then* converted into a column vector where only it's corresponding integer index will have the value of 1 and the rest of the vector will be filled with 0's. Since we're one-hot encoding the data, let's make a function to do that!\n"
   ]
  },
  {
   "cell_type": "code",
   "execution_count": 10,
   "metadata": {},
   "outputs": [],
   "source": [
    "def one_hot_encode(arr, n_labels):\n",
    "    \n",
    "    # Initialize the the encoded array\n",
    "    one_hot = np.zeros((arr.size, n_labels), dtype=np.float32)\n",
    "    \n",
    "    # Fill the appropriate elements with ones\n",
    "    one_hot[np.arange(one_hot.shape[0]), arr.flatten()] = 1.\n",
    "    \n",
    "    # Finally reshape it to get back to the original array\n",
    "    one_hot = one_hot.reshape((*arr.shape, n_labels))\n",
    "    \n",
    "    return one_hot"
   ]
  },
  {
   "cell_type": "code",
   "execution_count": 11,
   "metadata": {},
   "outputs": [
    {
     "name": "stdout",
     "output_type": "stream",
     "text": [
      "[[[0. 0. 0. 1. 0. 0. 0. 0.]\n",
      "  [0. 0. 0. 0. 0. 1. 0. 0.]\n",
      "  [0. 1. 0. 0. 0. 0. 0. 0.]]]\n"
     ]
    }
   ],
   "source": [
    "# check that the function works as expected\n",
    "test_seq = np.array([[3, 5, 1]])\n",
    "one_hot = one_hot_encode(test_seq, 8)\n",
    "\n",
    "print(one_hot)"
   ]
  },
  {
   "cell_type": "markdown",
   "metadata": {},
   "source": [
    "## Making training mini-batches\n",
    "\n",
    "\n",
    "To train on this data, we also want to create mini-batches for training. Remember that we want our batches to be multiple sequences of some desired number of sequence steps. Considering a simple example, our batches would look like this:\n",
    "\n",
    "<img src=\"assets/sequence_batching@1x.png\" width=500px>\n",
    "\n",
    "\n",
    "<br>\n",
    "\n",
    "In this example, we'll take the encoded characters (passed in as the `arr` parameter) and split them into multiple sequences, given by `batch_size`. Each of our sequences will be `seq_length` long.\n",
    "\n",
    "### Creating Batches\n",
    "\n",
    "**1. The first thing we need to do is discard some of the text so we only have completely full mini-batches. **\n",
    "\n",
    "Each batch contains $N \\times M$ characters, where $N$ is the batch size (the number of sequences in a batch) and $M$ is the seq_length or number of time steps in a sequence. Then, to get the total number of batches, $K$, that we can make from the array `arr`, you divide the length of `arr` by the number of characters per batch. Once you know the number of batches, you can get the total number of characters to keep from `arr`, $N * M * K$.\n",
    "\n",
    "**2. After that, we need to split `arr` into $N$ batches. ** \n",
    "\n",
    "You can do this using `arr.reshape(size)` where `size` is a tuple containing the dimensions sizes of the reshaped array. We know we want $N$ sequences in a batch, so let's make that the size of the first dimension. For the second dimension, you can use `-1` as a placeholder in the size, it'll fill up the array with the appropriate data for you. After this, you should have an array that is $N \\times (M * K)$.\n",
    "\n",
    "**3. Now that we have this array, we can iterate through it to get our mini-batches. **\n",
    "\n",
    "The idea is each batch is a $N \\times M$ window on the $N \\times (M * K)$ array. For each subsequent batch, the window moves over by `seq_length`. We also want to create both the input and target arrays. Remember that the targets are just the inputs shifted over by one character. The way I like to do this window is use `range` to take steps of size `n_steps` from $0$ to `arr.shape[1]`, the total number of tokens in each sequence. That way, the integers you get from `range` always point to the start of a batch, and each window is `seq_length` wide.\n",
    "\n",
    "> **TODO:** Write the code for creating batches in the function below. The exercises in this notebook _will not be easy_. I've provided a notebook with solutions alongside this notebook. If you get stuck, checkout the solutions. The most important thing is that you don't copy and paste the code into here, **type out the solution code yourself.**"
   ]
  },
  {
   "cell_type": "code",
   "execution_count": 23,
   "metadata": {},
   "outputs": [],
   "source": [
    "def get_batches(arr, batch_size, seq_length):\n",
    "    '''Create a generator that returns batches of size\n",
    "       batch_size x seq_length from arr.\n",
    "       \n",
    "       Arguments\n",
    "       ---------\n",
    "       arr: Array you want to make batches from\n",
    "       batch_size: Batch size, the number of sequences per batch\n",
    "       seq_length: Number of encoded chars in a sequence\n",
    "    '''\n",
    "    #print(len(arr))\n",
    "    ## TODO: Get the number of batches we can make\n",
    "    batch_size_total = batch_size * seq_length\n",
    "    n_batches = len(arr)//batch_size_total\n",
    "    #print(n_batches)\n",
    "    ## TODO: Keep only enough characters to make full batches\n",
    "    arr = arr[:n_batches * batch_size_total]\n",
    "    #print(len(arr))\n",
    "    ## TODO: Reshape into batch_size rows\n",
    "    arr = arr.reshape((batch_size, -1))\n",
    "    #print(batch_size_total)\n",
    "    ## TODO: Iterate over the batches using a window of size seq_length\n",
    "    for n in range(0, arr.shape[1], seq_length):\n",
    "        # The features\n",
    "        x = arr[:, n:n+seq_length]\n",
    "        # The targets, shifted by one\n",
    "        y = np.zeros_like(x)\n",
    "        try:\n",
    "            y[:, :-1], y[:, -1] = x[:, 1:], arr[:, n+seq_length]\n",
    "        except IndexError:\n",
    "            y[:, :-1], y[:, -1] = x[:, 1:], arr[:, 0]\n",
    "        yield x, y"
   ]
  },
  {
   "cell_type": "markdown",
   "metadata": {},
   "source": [
    "### Test Your Implementation\n",
    "\n",
    "Now I'll make some data sets and we can check out what's going on as we batch data. Here, as an example, I'm going to use a batch size of 8 and 50 sequence steps."
   ]
  },
  {
   "cell_type": "code",
   "execution_count": 24,
   "metadata": {},
   "outputs": [],
   "source": [
    "batches = get_batches(encoded, 8, 50)\n",
    "x, y = next(batches)"
   ]
  },
  {
   "cell_type": "code",
   "execution_count": 14,
   "metadata": {},
   "outputs": [
    {
     "name": "stdout",
     "output_type": "stream",
     "text": [
      "x\n",
      " [[33 29  2 28  3 72 57 17 54 14]\n",
      " [ 7  9 43 17  3 29  2  3 17  2]\n",
      " [72 43 12 17  9 57 17  2 17 75]\n",
      " [ 7 17  3 29 72 17 67 29  6 72]\n",
      " [17  7  2 49 17 29 72 57 17  3]\n",
      " [67 56  7  7  6  9 43 17  2 43]\n",
      " [17 64 43 43  2 17 29  2 12 17]\n",
      " [36 27 51  9 43  7 82 39  4 17]]\n",
      "\n",
      "y\n",
      " [[29  2 28  3 72 57 17 54 14 14]\n",
      " [ 9 43 17  3 29  2  3 17  2  3]\n",
      " [43 12 17  9 57 17  2 17 75  9]\n",
      " [17  3 29 72 17 67 29  6 72 75]\n",
      " [ 7  2 49 17 29 72 57 17  3 72]\n",
      " [56  7  7  6  9 43 17  2 43 12]\n",
      " [64 43 43  2 17 29  2 12 17  7]\n",
      " [27 51  9 43  7 82 39  4 17 74]]\n"
     ]
    }
   ],
   "source": [
    "# printing out the first 10 items in a sequence\n",
    "print('x\\n', x[:10, :10])\n",
    "print('\\ny\\n', y[:10, :10])"
   ]
  },
  {
   "cell_type": "markdown",
   "metadata": {},
   "source": [
    "If you implemented `get_batches` correctly, the above output should look something like \n",
    "```\n",
    "x\n",
    " [[25  8 60 11 45 27 28 73  1  2]\n",
    " [17  7 20 73 45  8 60 45 73 60]\n",
    " [27 20 80 73  7 28 73 60 73 65]\n",
    " [17 73 45  8 27 73 66  8 46 27]\n",
    " [73 17 60 12 73  8 27 28 73 45]\n",
    " [66 64 17 17 46  7 20 73 60 20]\n",
    " [73 76 20 20 60 73  8 60 80 73]\n",
    " [47 35 43  7 20 17 24 50 37 73]]\n",
    "\n",
    "y\n",
    " [[ 8 60 11 45 27 28 73  1  2  2]\n",
    " [ 7 20 73 45  8 60 45 73 60 45]\n",
    " [20 80 73  7 28 73 60 73 65  7]\n",
    " [73 45  8 27 73 66  8 46 27 65]\n",
    " [17 60 12 73  8 27 28 73 45 27]\n",
    " [64 17 17 46  7 20 73 60 20 80]\n",
    " [76 20 20 60 73  8 60 80 73 17]\n",
    " [35 43  7 20 17 24 50 37 73 36]]\n",
    " ```\n",
    " although the exact numbers may be different. Check to make sure the data is shifted over one step for `y`."
   ]
  },
  {
   "cell_type": "markdown",
   "metadata": {},
   "source": [
    "---\n",
    "## Defining the network with PyTorch\n",
    "\n",
    "Below is where you'll define the network.\n",
    "\n",
    "<img src=\"assets/charRNN.png\" width=500px>\n",
    "\n",
    "Next, you'll use PyTorch to define the architecture of the network. We start by defining the layers and operations we want. Then, define a method for the forward pass. You've also been given a method for predicting characters."
   ]
  },
  {
   "cell_type": "markdown",
   "metadata": {},
   "source": [
    "### Model Structure\n",
    "\n",
    "In `__init__` the suggested structure is as follows:\n",
    "* Create and store the necessary dictionaries (this has been done for you)\n",
    "* Define an LSTM layer that takes as params: an input size (the number of characters), a hidden layer size `n_hidden`, a number of layers `n_layers`, a dropout probability `drop_prob`, and a batch_first boolean (True, since we are batching)\n",
    "* Define a dropout layer with `drop_prob`\n",
    "* Define a fully-connected layer with params: input size `n_hidden` and output size (the number of characters)\n",
    "* Finally, initialize the weights (again, this has been given)\n",
    "\n",
    "Note that some parameters have been named and given in the `__init__` function, and we use them and store them by doing something like `self.drop_prob = drop_prob`."
   ]
  },
  {
   "cell_type": "markdown",
   "metadata": {},
   "source": [
    "---\n",
    "### LSTM Inputs/Outputs\n",
    "\n",
    "You can create a basic [LSTM layer](https://pytorch.org/docs/stable/nn.html#lstm) as follows\n",
    "\n",
    "```python\n",
    "self.lstm = nn.LSTM(input_size, n_hidden, n_layers, \n",
    "                            dropout=drop_prob, batch_first=True)\n",
    "```\n",
    "\n",
    "where `input_size` is the number of characters this cell expects to see as sequential input, and `n_hidden` is the number of units in the hidden layers in the cell. And we can add dropout by adding a dropout parameter with a specified probability; this will automatically add dropout to the inputs or outputs. Finally, in the `forward` function, we can stack up the LSTM cells into layers using `.view`. With this, you pass in a list of cells and it will send the output of one cell into the next cell.\n",
    "\n",
    "We also need to create an initial hidden state of all zeros. This is done like so\n",
    "\n",
    "```python\n",
    "self.init_hidden()\n",
    "```"
   ]
  },
  {
   "cell_type": "code",
   "execution_count": 20,
   "metadata": {},
   "outputs": [
    {
     "name": "stdout",
     "output_type": "stream",
     "text": [
      "No GPU available, training on CPU; consider making n_epochs very small.\n"
     ]
    }
   ],
   "source": [
    "# check if GPU is available\n",
    "train_on_gpu = torch.cuda.is_available()\n",
    "if(train_on_gpu):\n",
    "    print('Training on GPU!')\n",
    "else: \n",
    "    print('No GPU available, training on CPU; consider making n_epochs very small.')"
   ]
  },
  {
   "cell_type": "code",
   "execution_count": 15,
   "metadata": {},
   "outputs": [],
   "source": [
    "class CharRNN(nn.Module):\n",
    "    \n",
    "    def __init__(self, tokens, n_hidden=256, n_layers=2,\n",
    "                               drop_prob=0.5, lr=0.001):\n",
    "        super().__init__()\n",
    "        self.drop_prob = drop_prob\n",
    "        self.n_layers = n_layers\n",
    "        self.n_hidden = n_hidden\n",
    "        self.lr = lr\n",
    "        \n",
    "        # creating character dictionaries\n",
    "        self.chars = tokens\n",
    "        self.int2char = dict(enumerate(self.chars))\n",
    "        self.char2int = {ch: ii for ii, ch in self.int2char.items()}\n",
    "        \n",
    "        ## TODO: define the layers of the model\n",
    "        ## LSTM layer\n",
    "        self.lstm = nn.LSTM(len(self.chars), n_hidden, n_layers, dropout=drop_prob, batch_first=True)\n",
    "        \n",
    "        ### dropout layer\n",
    "        self.dropout = nn.Dropout(drop_prob)\n",
    "        \n",
    "        ## fully connected layer\n",
    "        self.fc = nn.Linear(n_hidden, len(self.chars))\n",
    "      \n",
    "    \n",
    "    def forward(self, x, hidden):\n",
    "        ''' Forward pass through the network. \n",
    "            These inputs are x, and the hidden/cell state `hidden`. '''\n",
    "                \n",
    "        ## TODO: Get the outputs and the new hidden state from the lstm\n",
    "        r_output, hidden = self.lstm(x, hidden)\n",
    "        \n",
    "        ## TODO: pass through a dropout layer\n",
    "        out = self.dropout(r_output)\n",
    "        \n",
    "        # Stack up LSTM outputs using view\n",
    "        # you may need to use contiguous to reshape the output\n",
    "        out = out.contiguous().view(-1, self.n_hidden)\n",
    "        \n",
    "        ## TODO: put x through the fully-connected layer\n",
    "        out = self.fc(out)\n",
    "        \n",
    "        # return the final output and the hidden state\n",
    "        return out, hidden\n",
    "    \n",
    "    \n",
    "    def init_hidden(self, batch_size):\n",
    "        ''' Initializes hidden state '''\n",
    "        # Create two new tensors with sizes n_layers x batch_size x n_hidden,\n",
    "        # initialized to zero, for hidden state and cell state of LSTM\n",
    "        weight = next(self.parameters()).data\n",
    "        \n",
    "        if (train_on_gpu):\n",
    "            hidden = (weight.new(self.n_layers, batch_size, self.n_hidden).zero_().cuda(),\n",
    "                  weight.new(self.n_layers, batch_size, self.n_hidden).zero_().cuda())\n",
    "        else:\n",
    "            hidden = (weight.new(self.n_layers, batch_size, self.n_hidden).zero_(),\n",
    "                      weight.new(self.n_layers, batch_size, self.n_hidden).zero_())\n",
    "        \n",
    "        return hidden"
   ]
  },
  {
   "cell_type": "markdown",
   "metadata": {},
   "source": [
    "## Time to train\n",
    "\n",
    "The train function gives us the ability to set the number of epochs, the learning rate, and other parameters.\n",
    "\n",
    "Below we're using an Adam optimizer and cross entropy loss since we are looking at character class scores as output. We calculate the loss and perform backpropagation, as usual!\n",
    "\n",
    "A couple of details about training: \n",
    ">* Within the batch loop, we detach the hidden state from its history; this time setting it equal to a new *tuple* variable because an LSTM has a hidden state that is a tuple of the hidden and cell states.\n",
    "* We use [`clip_grad_norm_`](https://pytorch.org/docs/stable/_modules/torch/nn/utils/clip_grad.html) to help prevent exploding gradients."
   ]
  },
  {
   "cell_type": "code",
   "execution_count": 16,
   "metadata": {},
   "outputs": [],
   "source": [
    "def train(net, data, epochs=10, batch_size=10, seq_length=50, lr=0.001, clip=5, val_frac=0.1, print_every=10):\n",
    "    ''' Training a network \n",
    "    \n",
    "        Arguments\n",
    "        ---------\n",
    "        \n",
    "        net: CharRNN network\n",
    "        data: text data to train the network\n",
    "        epochs: Number of epochs to train\n",
    "        batch_size: Number of mini-sequences per mini-batch, aka batch size\n",
    "        seq_length: Number of character steps per mini-batch\n",
    "        lr: learning rate\n",
    "        clip: gradient clipping\n",
    "        val_frac: Fraction of data to hold out for validation\n",
    "        print_every: Number of steps for printing training and validation loss\n",
    "    \n",
    "    '''\n",
    "    net.train()\n",
    "    \n",
    "    opt = torch.optim.Adam(net.parameters(), lr=lr)\n",
    "    criterion = nn.CrossEntropyLoss()\n",
    "    \n",
    "    # create training and validation data\n",
    "    val_idx = int(len(data)*(1-val_frac))\n",
    "    data, val_data = data[:val_idx], data[val_idx:]\n",
    "    \n",
    "    if(train_on_gpu):\n",
    "        net.cuda()\n",
    "    \n",
    "    counter = 0\n",
    "    n_chars = len(net.chars)\n",
    "    for e in range(epochs):\n",
    "        # initialize hidden state\n",
    "        h = net.init_hidden(batch_size)\n",
    "        \n",
    "        for x, y in get_batches(data, batch_size, seq_length):\n",
    "            counter += 1\n",
    "            \n",
    "            # One-hot encode our data and make them Torch tensors\n",
    "            x = one_hot_encode(x, n_chars)\n",
    "            inputs, targets = torch.from_numpy(x), torch.from_numpy(y)\n",
    "            \n",
    "            if(train_on_gpu):\n",
    "                inputs, targets = inputs.cuda(), targets.cuda()\n",
    "\n",
    "            # Creating new variables for the hidden state, otherwise\n",
    "            # we'd backprop through the entire training history\n",
    "            h = tuple([each.data for each in h])\n",
    "\n",
    "            # zero accumulated gradients\n",
    "            net.zero_grad()\n",
    "            \n",
    "            # get the output from the model\n",
    "            output, h = net(inputs, h)\n",
    "            \n",
    "            # calculate the loss and perform backprop\n",
    "            loss = criterion(output, targets.view(batch_size*seq_length).long())\n",
    "            loss.backward()\n",
    "            # `clip_grad_norm` helps prevent the exploding gradient problem in RNNs / LSTMs.\n",
    "            nn.utils.clip_grad_norm_(net.parameters(), clip)\n",
    "            opt.step()\n",
    "            \n",
    "            # loss stats\n",
    "            if counter % print_every == 0:\n",
    "                # Get validation loss\n",
    "                val_h = net.init_hidden(batch_size)\n",
    "                val_losses = []\n",
    "                net.eval()\n",
    "                for x, y in get_batches(val_data, batch_size, seq_length):\n",
    "                    # One-hot encode our data and make them Torch tensors\n",
    "                    x = one_hot_encode(x, n_chars)\n",
    "                    x, y = torch.from_numpy(x), torch.from_numpy(y)\n",
    "                    \n",
    "                    # Creating new variables for the hidden state, otherwise\n",
    "                    # we'd backprop through the entire training history\n",
    "                    val_h = tuple([each.data for each in val_h])\n",
    "                    \n",
    "                    inputs, targets = x, y\n",
    "                    if(train_on_gpu):\n",
    "                        inputs, targets = inputs.cuda(), targets.cuda()\n",
    "\n",
    "                    output, val_h = net(inputs, val_h)\n",
    "                    val_loss = criterion(output, targets.view(batch_size*seq_length).long())\n",
    "                \n",
    "                    val_losses.append(val_loss.item())\n",
    "                \n",
    "                net.train() # reset to train mode after iterationg through validation data\n",
    "                \n",
    "                print(\"Epoch: {}/{}...\".format(e+1, epochs),\n",
    "                      \"Step: {}...\".format(counter),\n",
    "                      \"Loss: {:.4f}...\".format(loss.item()),\n",
    "                      \"Val Loss: {:.4f}\".format(np.mean(val_losses)))"
   ]
  },
  {
   "cell_type": "markdown",
   "metadata": {},
   "source": [
    "## Instantiating the model\n",
    "\n",
    "Now we can actually train the network. First we'll create the network itself, with some given hyperparameters. Then, define the mini-batches sizes, and start training!"
   ]
  },
  {
   "cell_type": "code",
   "execution_count": 22,
   "metadata": {},
   "outputs": [
    {
     "name": "stdout",
     "output_type": "stream",
     "text": [
      "CharRNN(\n",
      "  (lstm): LSTM(83, 512, num_layers=2, batch_first=True, dropout=0.5)\n",
      "  (dropout): Dropout(p=0.5, inplace=False)\n",
      "  (fc): Linear(in_features=512, out_features=83, bias=True)\n",
      ")\n"
     ]
    }
   ],
   "source": [
    "## TODO: set your model hyperparameters\n",
    "# define and print the net\n",
    "n_hidden = 512\n",
    "n_layers = 2\n",
    "\n",
    "net = CharRNN(chars, n_hidden, n_layers)\n",
    "print(net)"
   ]
  },
  {
   "cell_type": "markdown",
   "metadata": {},
   "source": [
    "### Set your training hyperparameters!"
   ]
  },
  {
   "cell_type": "code",
   "execution_count": 32,
   "metadata": {
    "scrolled": true
   },
   "outputs": [
    {
     "name": "stdout",
     "output_type": "stream",
     "text": [
      "Epoch: 1/20... Step: 10... Loss: 2.0684... Val Loss: 2.0447\n",
      "Epoch: 1/20... Step: 20... Loss: 2.0440... Val Loss: 2.0139\n",
      "Epoch: 1/20... Step: 30... Loss: 2.0295... Val Loss: 1.9924\n",
      "Epoch: 1/20... Step: 40... Loss: 1.9880... Val Loss: 1.9781\n",
      "Epoch: 1/20... Step: 50... Loss: 2.0183... Val Loss: 1.9619\n",
      "Epoch: 1/20... Step: 60... Loss: 1.9450... Val Loss: 1.9492\n",
      "Epoch: 1/20... Step: 70... Loss: 1.9512... Val Loss: 1.9374\n",
      "Epoch: 1/20... Step: 80... Loss: 1.9237... Val Loss: 1.9207\n",
      "Epoch: 1/20... Step: 90... Loss: 1.9470... Val Loss: 1.9081\n",
      "Epoch: 1/20... Step: 100... Loss: 1.9157... Val Loss: 1.8962\n",
      "Epoch: 1/20... Step: 110... Loss: 1.8849... Val Loss: 1.8849\n",
      "Epoch: 1/20... Step: 120... Loss: 1.8531... Val Loss: 1.8694\n",
      "Epoch: 1/20... Step: 130... Loss: 1.8966... Val Loss: 1.8567\n",
      "Epoch: 2/20... Step: 140... Loss: 1.8924... Val Loss: 1.8480\n",
      "Epoch: 2/20... Step: 150... Loss: 1.8783... Val Loss: 1.8368\n",
      "Epoch: 2/20... Step: 160... Loss: 1.8705... Val Loss: 1.8228\n",
      "Epoch: 2/20... Step: 170... Loss: 1.8460... Val Loss: 1.8128\n",
      "Epoch: 2/20... Step: 180... Loss: 1.8064... Val Loss: 1.7995\n",
      "Epoch: 2/20... Step: 190... Loss: 1.7656... Val Loss: 1.7893\n",
      "Epoch: 2/20... Step: 200... Loss: 1.7702... Val Loss: 1.7773\n",
      "Epoch: 2/20... Step: 210... Loss: 1.7846... Val Loss: 1.7693\n",
      "Epoch: 2/20... Step: 220... Loss: 1.7517... Val Loss: 1.7620\n",
      "Epoch: 2/20... Step: 230... Loss: 1.7700... Val Loss: 1.7470\n",
      "Epoch: 2/20... Step: 240... Loss: 1.7712... Val Loss: 1.7382\n",
      "Epoch: 2/20... Step: 250... Loss: 1.7253... Val Loss: 1.7274\n",
      "Epoch: 2/20... Step: 260... Loss: 1.7031... Val Loss: 1.7183\n",
      "Epoch: 2/20... Step: 270... Loss: 1.7395... Val Loss: 1.7074\n",
      "Epoch: 3/20... Step: 280... Loss: 1.7264... Val Loss: 1.7009\n",
      "Epoch: 3/20... Step: 290... Loss: 1.7252... Val Loss: 1.6925\n",
      "Epoch: 3/20... Step: 300... Loss: 1.6894... Val Loss: 1.6785\n",
      "Epoch: 3/20... Step: 310... Loss: 1.6892... Val Loss: 1.6750\n",
      "Epoch: 3/20... Step: 320... Loss: 1.6442... Val Loss: 1.6674\n",
      "Epoch: 3/20... Step: 330... Loss: 1.6599... Val Loss: 1.6562\n",
      "Epoch: 3/20... Step: 340... Loss: 1.6919... Val Loss: 1.6485\n",
      "Epoch: 3/20... Step: 350... Loss: 1.6462... Val Loss: 1.6484\n",
      "Epoch: 3/20... Step: 360... Loss: 1.6101... Val Loss: 1.6376\n",
      "Epoch: 3/20... Step: 370... Loss: 1.6387... Val Loss: 1.6251\n",
      "Epoch: 3/20... Step: 380... Loss: 1.6379... Val Loss: 1.6255\n",
      "Epoch: 3/20... Step: 390... Loss: 1.6157... Val Loss: 1.6131\n",
      "Epoch: 3/20... Step: 400... Loss: 1.5898... Val Loss: 1.6073\n",
      "Epoch: 3/20... Step: 410... Loss: 1.6099... Val Loss: 1.6001\n",
      "Epoch: 4/20... Step: 420... Loss: 1.6101... Val Loss: 1.5958\n",
      "Epoch: 4/20... Step: 430... Loss: 1.6078... Val Loss: 1.5931\n",
      "Epoch: 4/20... Step: 440... Loss: 1.5985... Val Loss: 1.5840\n",
      "Epoch: 4/20... Step: 450... Loss: 1.5507... Val Loss: 1.5769\n",
      "Epoch: 4/20... Step: 460... Loss: 1.5324... Val Loss: 1.5744\n",
      "Epoch: 4/20... Step: 470... Loss: 1.5855... Val Loss: 1.5680\n",
      "Epoch: 4/20... Step: 480... Loss: 1.5678... Val Loss: 1.5592\n",
      "Epoch: 4/20... Step: 490... Loss: 1.5741... Val Loss: 1.5593\n",
      "Epoch: 4/20... Step: 500... Loss: 1.5724... Val Loss: 1.5520\n",
      "Epoch: 4/20... Step: 510... Loss: 1.5539... Val Loss: 1.5459\n",
      "Epoch: 4/20... Step: 520... Loss: 1.5663... Val Loss: 1.5433\n",
      "Epoch: 4/20... Step: 530... Loss: 1.5372... Val Loss: 1.5372\n",
      "Epoch: 4/20... Step: 540... Loss: 1.5056... Val Loss: 1.5278\n",
      "Epoch: 4/20... Step: 550... Loss: 1.5604... Val Loss: 1.5275\n",
      "Epoch: 5/20... Step: 560... Loss: 1.5219... Val Loss: 1.5233\n",
      "Epoch: 5/20... Step: 570... Loss: 1.5255... Val Loss: 1.5192\n",
      "Epoch: 5/20... Step: 580... Loss: 1.5066... Val Loss: 1.5159\n",
      "Epoch: 5/20... Step: 590... Loss: 1.4916... Val Loss: 1.5088\n",
      "Epoch: 5/20... Step: 600... Loss: 1.4938... Val Loss: 1.5079\n",
      "Epoch: 5/20... Step: 610... Loss: 1.4844... Val Loss: 1.5005\n",
      "Epoch: 5/20... Step: 620... Loss: 1.4907... Val Loss: 1.4992\n",
      "Epoch: 5/20... Step: 630... Loss: 1.5111... Val Loss: 1.4993\n",
      "Epoch: 5/20... Step: 640... Loss: 1.4827... Val Loss: 1.4936\n",
      "Epoch: 5/20... Step: 650... Loss: 1.4799... Val Loss: 1.4896\n",
      "Epoch: 5/20... Step: 660... Loss: 1.4574... Val Loss: 1.4853\n",
      "Epoch: 5/20... Step: 670... Loss: 1.4887... Val Loss: 1.4813\n",
      "Epoch: 5/20... Step: 680... Loss: 1.4875... Val Loss: 1.4767\n",
      "Epoch: 5/20... Step: 690... Loss: 1.4649... Val Loss: 1.4736\n",
      "Epoch: 6/20... Step: 700... Loss: 1.4709... Val Loss: 1.4703\n",
      "Epoch: 6/20... Step: 710... Loss: 1.4527... Val Loss: 1.4652\n",
      "Epoch: 6/20... Step: 720... Loss: 1.4538... Val Loss: 1.4657\n",
      "Epoch: 6/20... Step: 730... Loss: 1.4607... Val Loss: 1.4624\n",
      "Epoch: 6/20... Step: 740... Loss: 1.4207... Val Loss: 1.4625\n",
      "Epoch: 6/20... Step: 750... Loss: 1.4274... Val Loss: 1.4549\n",
      "Epoch: 6/20... Step: 760... Loss: 1.4639... Val Loss: 1.4540\n",
      "Epoch: 6/20... Step: 770... Loss: 1.4429... Val Loss: 1.4512\n",
      "Epoch: 6/20... Step: 780... Loss: 1.4290... Val Loss: 1.4472\n",
      "Epoch: 6/20... Step: 790... Loss: 1.4267... Val Loss: 1.4432\n",
      "Epoch: 6/20... Step: 800... Loss: 1.4467... Val Loss: 1.4449\n",
      "Epoch: 6/20... Step: 810... Loss: 1.4188... Val Loss: 1.4370\n",
      "Epoch: 6/20... Step: 820... Loss: 1.3922... Val Loss: 1.4377\n",
      "Epoch: 6/20... Step: 830... Loss: 1.4301... Val Loss: 1.4348\n",
      "Epoch: 7/20... Step: 840... Loss: 1.4011... Val Loss: 1.4369\n",
      "Epoch: 7/20... Step: 850... Loss: 1.4129... Val Loss: 1.4333\n",
      "Epoch: 7/20... Step: 860... Loss: 1.3972... Val Loss: 1.4317\n",
      "Epoch: 7/20... Step: 870... Loss: 1.4072... Val Loss: 1.4267\n",
      "Epoch: 7/20... Step: 880... Loss: 1.4085... Val Loss: 1.4256\n",
      "Epoch: 7/20... Step: 890... Loss: 1.4090... Val Loss: 1.4195\n",
      "Epoch: 7/20... Step: 900... Loss: 1.4033... Val Loss: 1.4215\n",
      "Epoch: 7/20... Step: 910... Loss: 1.3644... Val Loss: 1.4169\n",
      "Epoch: 7/20... Step: 920... Loss: 1.3953... Val Loss: 1.4129\n",
      "Epoch: 7/20... Step: 930... Loss: 1.3819... Val Loss: 1.4124\n",
      "Epoch: 7/20... Step: 940... Loss: 1.3872... Val Loss: 1.4101\n",
      "Epoch: 7/20... Step: 950... Loss: 1.4016... Val Loss: 1.4070\n",
      "Epoch: 7/20... Step: 960... Loss: 1.4000... Val Loss: 1.4065\n",
      "Epoch: 7/20... Step: 970... Loss: 1.4033... Val Loss: 1.4048\n",
      "Epoch: 8/20... Step: 980... Loss: 1.3726... Val Loss: 1.4062\n",
      "Epoch: 8/20... Step: 990... Loss: 1.3784... Val Loss: 1.3985\n",
      "Epoch: 8/20... Step: 1000... Loss: 1.3816... Val Loss: 1.3981\n",
      "Epoch: 8/20... Step: 1010... Loss: 1.4075... Val Loss: 1.3979\n",
      "Epoch: 8/20... Step: 1020... Loss: 1.3893... Val Loss: 1.3963\n",
      "Epoch: 8/20... Step: 1030... Loss: 1.3670... Val Loss: 1.3909\n",
      "Epoch: 8/20... Step: 1040... Loss: 1.3785... Val Loss: 1.3966\n",
      "Epoch: 8/20... Step: 1050... Loss: 1.3557... Val Loss: 1.3902\n",
      "Epoch: 8/20... Step: 1060... Loss: 1.3558... Val Loss: 1.3849\n",
      "Epoch: 8/20... Step: 1070... Loss: 1.3651... Val Loss: 1.3874\n",
      "Epoch: 8/20... Step: 1080... Loss: 1.3575... Val Loss: 1.3812\n",
      "Epoch: 8/20... Step: 1090... Loss: 1.3525... Val Loss: 1.3833\n",
      "Epoch: 8/20... Step: 1100... Loss: 1.3367... Val Loss: 1.3757\n",
      "Epoch: 8/20... Step: 1110... Loss: 1.3475... Val Loss: 1.3743\n",
      "Epoch: 9/20... Step: 1120... Loss: 1.3679... Val Loss: 1.3807\n",
      "Epoch: 9/20... Step: 1130... Loss: 1.3530... Val Loss: 1.3717\n",
      "Epoch: 9/20... Step: 1140... Loss: 1.3687... Val Loss: 1.3663\n",
      "Epoch: 9/20... Step: 1150... Loss: 1.3773... Val Loss: 1.3696\n",
      "Epoch: 9/20... Step: 1160... Loss: 1.3333... Val Loss: 1.3676\n",
      "Epoch: 9/20... Step: 1170... Loss: 1.3422... Val Loss: 1.3659\n",
      "Epoch: 9/20... Step: 1180... Loss: 1.3375... Val Loss: 1.3612\n",
      "Epoch: 9/20... Step: 1190... Loss: 1.3645... Val Loss: 1.3606\n",
      "Epoch: 9/20... Step: 1200... Loss: 1.3139... Val Loss: 1.3574\n",
      "Epoch: 9/20... Step: 1210... Loss: 1.3274... Val Loss: 1.3546\n",
      "Epoch: 9/20... Step: 1220... Loss: 1.3260... Val Loss: 1.3583\n",
      "Epoch: 9/20... Step: 1230... Loss: 1.3140... Val Loss: 1.3548\n",
      "Epoch: 9/20... Step: 1240... Loss: 1.3186... Val Loss: 1.3513\n",
      "Epoch: 9/20... Step: 1250... Loss: 1.3308... Val Loss: 1.3486\n",
      "Epoch: 10/20... Step: 1260... Loss: 1.3274... Val Loss: 1.3528\n",
      "Epoch: 10/20... Step: 1270... Loss: 1.3247... Val Loss: 1.3452\n",
      "Epoch: 10/20... Step: 1280... Loss: 1.3467... Val Loss: 1.3385\n",
      "Epoch: 10/20... Step: 1290... Loss: 1.3195... Val Loss: 1.3491\n",
      "Epoch: 10/20... Step: 1300... Loss: 1.3172... Val Loss: 1.3436\n",
      "Epoch: 10/20... Step: 1310... Loss: 1.3119... Val Loss: 1.3438\n",
      "Epoch: 10/20... Step: 1320... Loss: 1.2894... Val Loss: 1.3413\n",
      "Epoch: 10/20... Step: 1330... Loss: 1.2849... Val Loss: 1.3376\n",
      "Epoch: 10/20... Step: 1340... Loss: 1.2857... Val Loss: 1.3360\n"
     ]
    },
    {
     "name": "stdout",
     "output_type": "stream",
     "text": [
      "Epoch: 10/20... Step: 1350... Loss: 1.2867... Val Loss: 1.3356\n",
      "Epoch: 10/20... Step: 1360... Loss: 1.2875... Val Loss: 1.3353\n",
      "Epoch: 10/20... Step: 1370... Loss: 1.2810... Val Loss: 1.3368\n",
      "Epoch: 10/20... Step: 1380... Loss: 1.3266... Val Loss: 1.3298\n",
      "Epoch: 10/20... Step: 1390... Loss: 1.3303... Val Loss: 1.3276\n",
      "Epoch: 11/20... Step: 1400... Loss: 1.3327... Val Loss: 1.3288\n",
      "Epoch: 11/20... Step: 1410... Loss: 1.3352... Val Loss: 1.3246\n",
      "Epoch: 11/20... Step: 1420... Loss: 1.3343... Val Loss: 1.3232\n",
      "Epoch: 11/20... Step: 1430... Loss: 1.3005... Val Loss: 1.3283\n",
      "Epoch: 11/20... Step: 1440... Loss: 1.3141... Val Loss: 1.3252\n",
      "Epoch: 11/20... Step: 1450... Loss: 1.2549... Val Loss: 1.3292\n",
      "Epoch: 11/20... Step: 1460... Loss: 1.2791... Val Loss: 1.3223\n",
      "Epoch: 11/20... Step: 1470... Loss: 1.2679... Val Loss: 1.3202\n",
      "Epoch: 11/20... Step: 1480... Loss: 1.2918... Val Loss: 1.3220\n",
      "Epoch: 11/20... Step: 1490... Loss: 1.2780... Val Loss: 1.3206\n",
      "Epoch: 11/20... Step: 1500... Loss: 1.2599... Val Loss: 1.3282\n",
      "Epoch: 11/20... Step: 1510... Loss: 1.2544... Val Loss: 1.3206\n",
      "Epoch: 11/20... Step: 1520... Loss: 1.2814... Val Loss: 1.3197\n",
      "Epoch: 12/20... Step: 1530... Loss: 1.3618... Val Loss: 1.3151\n",
      "Epoch: 12/20... Step: 1540... Loss: 1.2945... Val Loss: 1.3174\n",
      "Epoch: 12/20... Step: 1550... Loss: 1.2954... Val Loss: 1.3149\n",
      "Epoch: 12/20... Step: 1560... Loss: 1.3165... Val Loss: 1.3086\n",
      "Epoch: 12/20... Step: 1570... Loss: 1.2599... Val Loss: 1.3147\n",
      "Epoch: 12/20... Step: 1580... Loss: 1.2425... Val Loss: 1.3113\n",
      "Epoch: 12/20... Step: 1590... Loss: 1.2401... Val Loss: 1.3127\n",
      "Epoch: 12/20... Step: 1600... Loss: 1.2583... Val Loss: 1.3063\n",
      "Epoch: 12/20... Step: 1610... Loss: 1.2637... Val Loss: 1.3082\n",
      "Epoch: 12/20... Step: 1620... Loss: 1.2508... Val Loss: 1.3071\n",
      "Epoch: 12/20... Step: 1630... Loss: 1.2723... Val Loss: 1.3113\n",
      "Epoch: 12/20... Step: 1640... Loss: 1.2540... Val Loss: 1.3085\n",
      "Epoch: 12/20... Step: 1650... Loss: 1.2365... Val Loss: 1.3065\n",
      "Epoch: 12/20... Step: 1660... Loss: 1.2872... Val Loss: 1.3076\n",
      "Epoch: 13/20... Step: 1670... Loss: 1.2491... Val Loss: 1.3051\n",
      "Epoch: 13/20... Step: 1680... Loss: 1.2664... Val Loss: 1.3004\n",
      "Epoch: 13/20... Step: 1690... Loss: 1.2535... Val Loss: 1.3024\n",
      "Epoch: 13/20... Step: 1700... Loss: 1.2456... Val Loss: 1.2982\n",
      "Epoch: 13/20... Step: 1710... Loss: 1.2300... Val Loss: 1.3029\n",
      "Epoch: 13/20... Step: 1720... Loss: 1.2435... Val Loss: 1.3045\n",
      "Epoch: 13/20... Step: 1730... Loss: 1.2755... Val Loss: 1.3026\n",
      "Epoch: 13/20... Step: 1740... Loss: 1.2403... Val Loss: 1.2972\n",
      "Epoch: 13/20... Step: 1750... Loss: 1.2190... Val Loss: 1.3002\n",
      "Epoch: 13/20... Step: 1760... Loss: 1.2469... Val Loss: 1.2977\n",
      "Epoch: 13/20... Step: 1770... Loss: 1.2649... Val Loss: 1.3029\n",
      "Epoch: 13/20... Step: 1780... Loss: 1.2341... Val Loss: 1.2978\n",
      "Epoch: 13/20... Step: 1790... Loss: 1.2287... Val Loss: 1.2963\n",
      "Epoch: 13/20... Step: 1800... Loss: 1.2509... Val Loss: 1.2958\n",
      "Epoch: 14/20... Step: 1810... Loss: 1.2604... Val Loss: 1.2934\n",
      "Epoch: 14/20... Step: 1820... Loss: 1.2402... Val Loss: 1.2979\n",
      "Epoch: 14/20... Step: 1830... Loss: 1.2592... Val Loss: 1.2891\n",
      "Epoch: 14/20... Step: 1840... Loss: 1.2063... Val Loss: 1.2914\n",
      "Epoch: 14/20... Step: 1850... Loss: 1.1975... Val Loss: 1.2980\n",
      "Epoch: 14/20... Step: 1860... Loss: 1.2510... Val Loss: 1.2919\n",
      "Epoch: 14/20... Step: 1870... Loss: 1.2570... Val Loss: 1.2961\n",
      "Epoch: 14/20... Step: 1880... Loss: 1.2476... Val Loss: 1.2917\n",
      "Epoch: 14/20... Step: 1890... Loss: 1.2607... Val Loss: 1.3001\n",
      "Epoch: 14/20... Step: 1900... Loss: 1.2427... Val Loss: 1.2954\n",
      "Epoch: 14/20... Step: 1910... Loss: 1.2420... Val Loss: 1.2965\n",
      "Epoch: 14/20... Step: 1920... Loss: 1.2414... Val Loss: 1.2948\n",
      "Epoch: 14/20... Step: 1930... Loss: 1.2085... Val Loss: 1.2925\n",
      "Epoch: 14/20... Step: 1940... Loss: 1.2539... Val Loss: 1.2882\n",
      "Epoch: 15/20... Step: 1950... Loss: 1.2371... Val Loss: 1.2914\n",
      "Epoch: 15/20... Step: 1960... Loss: 1.2333... Val Loss: 1.2884\n",
      "Epoch: 15/20... Step: 1970... Loss: 1.2253... Val Loss: 1.2855\n",
      "Epoch: 15/20... Step: 1980... Loss: 1.2170... Val Loss: 1.2837\n",
      "Epoch: 15/20... Step: 1990... Loss: 1.2222... Val Loss: 1.2822\n",
      "Epoch: 15/20... Step: 2000... Loss: 1.2028... Val Loss: 1.2815\n",
      "Epoch: 15/20... Step: 2010... Loss: 1.2165... Val Loss: 1.2809\n",
      "Epoch: 15/20... Step: 2020... Loss: 1.2446... Val Loss: 1.2867\n",
      "Epoch: 15/20... Step: 2030... Loss: 1.2093... Val Loss: 1.2852\n",
      "Epoch: 15/20... Step: 2040... Loss: 1.2298... Val Loss: 1.2834\n",
      "Epoch: 15/20... Step: 2050... Loss: 1.2148... Val Loss: 1.2845\n",
      "Epoch: 15/20... Step: 2060... Loss: 1.2290... Val Loss: 1.2825\n",
      "Epoch: 15/20... Step: 2070... Loss: 1.2317... Val Loss: 1.2832\n",
      "Epoch: 15/20... Step: 2080... Loss: 1.2262... Val Loss: 1.2801\n",
      "Epoch: 16/20... Step: 2090... Loss: 1.2287... Val Loss: 1.2837\n",
      "Epoch: 16/20... Step: 2100... Loss: 1.2191... Val Loss: 1.2789\n",
      "Epoch: 16/20... Step: 2110... Loss: 1.2039... Val Loss: 1.2771\n",
      "Epoch: 16/20... Step: 2120... Loss: 1.2195... Val Loss: 1.2777\n",
      "Epoch: 16/20... Step: 2130... Loss: 1.1958... Val Loss: 1.2786\n",
      "Epoch: 16/20... Step: 2140... Loss: 1.2089... Val Loss: 1.2743\n",
      "Epoch: 16/20... Step: 2150... Loss: 1.2328... Val Loss: 1.2761\n",
      "Epoch: 16/20... Step: 2160... Loss: 1.2056... Val Loss: 1.2795\n",
      "Epoch: 16/20... Step: 2170... Loss: 1.2087... Val Loss: 1.2766\n",
      "Epoch: 16/20... Step: 2180... Loss: 1.2031... Val Loss: 1.2764\n",
      "Epoch: 16/20... Step: 2190... Loss: 1.2260... Val Loss: 1.2771\n",
      "Epoch: 16/20... Step: 2200... Loss: 1.2114... Val Loss: 1.2776\n",
      "Epoch: 16/20... Step: 2210... Loss: 1.1667... Val Loss: 1.2854\n",
      "Epoch: 16/20... Step: 2220... Loss: 1.2236... Val Loss: 1.2799\n",
      "Epoch: 17/20... Step: 2230... Loss: 1.1993... Val Loss: 1.2759\n",
      "Epoch: 17/20... Step: 2240... Loss: 1.1946... Val Loss: 1.2746\n",
      "Epoch: 17/20... Step: 2250... Loss: 1.1836... Val Loss: 1.2775\n",
      "Epoch: 17/20... Step: 2260... Loss: 1.1984... Val Loss: 1.2699\n",
      "Epoch: 17/20... Step: 2270... Loss: 1.2118... Val Loss: 1.2706\n",
      "Epoch: 17/20... Step: 2280... Loss: 1.2087... Val Loss: 1.2715\n",
      "Epoch: 17/20... Step: 2290... Loss: 1.2076... Val Loss: 1.2726\n",
      "Epoch: 17/20... Step: 2300... Loss: 1.1819... Val Loss: 1.2805\n",
      "Epoch: 17/20... Step: 2310... Loss: 1.2024... Val Loss: 1.2734\n",
      "Epoch: 17/20... Step: 2320... Loss: 1.1966... Val Loss: 1.2691\n",
      "Epoch: 17/20... Step: 2330... Loss: 1.1840... Val Loss: 1.2708\n",
      "Epoch: 17/20... Step: 2340... Loss: 1.1994... Val Loss: 1.2640\n",
      "Epoch: 17/20... Step: 2350... Loss: 1.2101... Val Loss: 1.2686\n",
      "Epoch: 17/20... Step: 2360... Loss: 1.2031... Val Loss: 1.2673\n",
      "Epoch: 18/20... Step: 2370... Loss: 1.1986... Val Loss: 1.2679\n",
      "Epoch: 18/20... Step: 2380... Loss: 1.1982... Val Loss: 1.2624\n",
      "Epoch: 18/20... Step: 2390... Loss: 1.1947... Val Loss: 1.2696\n",
      "Epoch: 18/20... Step: 2400... Loss: 1.2140... Val Loss: 1.2726\n",
      "Epoch: 18/20... Step: 2410... Loss: 1.2086... Val Loss: 1.2711\n",
      "Epoch: 18/20... Step: 2420... Loss: 1.1864... Val Loss: 1.2674\n",
      "Epoch: 18/20... Step: 2430... Loss: 1.2082... Val Loss: 1.2679\n",
      "Epoch: 18/20... Step: 2440... Loss: 1.1879... Val Loss: 1.2727\n",
      "Epoch: 18/20... Step: 2450... Loss: 1.1898... Val Loss: 1.2687\n",
      "Epoch: 18/20... Step: 2460... Loss: 1.2038... Val Loss: 1.2700\n",
      "Epoch: 18/20... Step: 2470... Loss: 1.1935... Val Loss: 1.2716\n",
      "Epoch: 18/20... Step: 2480... Loss: 1.1885... Val Loss: 1.2630\n",
      "Epoch: 18/20... Step: 2490... Loss: 1.1706... Val Loss: 1.2656\n",
      "Epoch: 18/20... Step: 2500... Loss: 1.1796... Val Loss: 1.2661\n",
      "Epoch: 19/20... Step: 2510... Loss: 1.1824... Val Loss: 1.2666\n",
      "Epoch: 19/20... Step: 2520... Loss: 1.1971... Val Loss: 1.2601\n",
      "Epoch: 19/20... Step: 2530... Loss: 1.2057... Val Loss: 1.2638\n",
      "Epoch: 19/20... Step: 2540... Loss: 1.2099... Val Loss: 1.2658\n",
      "Epoch: 19/20... Step: 2550... Loss: 1.1752... Val Loss: 1.2645\n",
      "Epoch: 19/20... Step: 2560... Loss: 1.1883... Val Loss: 1.2599\n",
      "Epoch: 19/20... Step: 2570... Loss: 1.1824... Val Loss: 1.2590\n",
      "Epoch: 19/20... Step: 2580... Loss: 1.2052... Val Loss: 1.2642\n",
      "Epoch: 19/20... Step: 2590... Loss: 1.1696... Val Loss: 1.2625\n",
      "Epoch: 19/20... Step: 2600... Loss: 1.1831... Val Loss: 1.2594\n",
      "Epoch: 19/20... Step: 2610... Loss: 1.1846... Val Loss: 1.2612\n",
      "Epoch: 19/20... Step: 2620... Loss: 1.1688... Val Loss: 1.2591\n",
      "Epoch: 19/20... Step: 2630... Loss: 1.1711... Val Loss: 1.2591\n",
      "Epoch: 19/20... Step: 2640... Loss: 1.1819... Val Loss: 1.2573\n",
      "Epoch: 20/20... Step: 2650... Loss: 1.1853... Val Loss: 1.2590\n"
     ]
    },
    {
     "name": "stdout",
     "output_type": "stream",
     "text": [
      "Epoch: 20/20... Step: 2660... Loss: 1.1915... Val Loss: 1.2600\n",
      "Epoch: 20/20... Step: 2670... Loss: 1.2029... Val Loss: 1.2639\n",
      "Epoch: 20/20... Step: 2680... Loss: 1.1872... Val Loss: 1.2636\n",
      "Epoch: 20/20... Step: 2690... Loss: 1.1828... Val Loss: 1.2575\n",
      "Epoch: 20/20... Step: 2700... Loss: 1.1926... Val Loss: 1.2571\n",
      "Epoch: 20/20... Step: 2710... Loss: 1.1591... Val Loss: 1.2554\n",
      "Epoch: 20/20... Step: 2720... Loss: 1.1640... Val Loss: 1.2650\n",
      "Epoch: 20/20... Step: 2730... Loss: 1.1638... Val Loss: 1.2558\n",
      "Epoch: 20/20... Step: 2740... Loss: 1.1635... Val Loss: 1.2563\n",
      "Epoch: 20/20... Step: 2750... Loss: 1.1595... Val Loss: 1.2574\n",
      "Epoch: 20/20... Step: 2760... Loss: 1.1544... Val Loss: 1.2552\n",
      "Epoch: 20/20... Step: 2770... Loss: 1.1841... Val Loss: 1.2576\n",
      "Epoch: 20/20... Step: 2780... Loss: 1.2300... Val Loss: 1.2609\n"
     ]
    }
   ],
   "source": [
    "batch_size = 128\n",
    "seq_length = 100\n",
    "n_epochs =  20# start small if you are just testing initial behavior\n",
    "\n",
    "# train the model\n",
    "train(net, encoded, epochs=n_epochs, batch_size=batch_size, seq_length=seq_length, lr=0.001, print_every=10)"
   ]
  },
  {
   "cell_type": "markdown",
   "metadata": {},
   "source": [
    "## Getting the best model\n",
    "\n",
    "To set your hyperparameters to get the best performance, you'll want to watch the training and validation losses. If your training loss is much lower than the validation loss, you're overfitting. Increase regularization (more dropout) or use a smaller network. If the training and validation losses are close, you're underfitting so you can increase the size of the network."
   ]
  },
  {
   "cell_type": "markdown",
   "metadata": {},
   "source": [
    "## Hyperparameters\n",
    "\n",
    "Here are the hyperparameters for the network.\n",
    "\n",
    "In defining the model:\n",
    "* `n_hidden` - The number of units in the hidden layers.\n",
    "* `n_layers` - Number of hidden LSTM layers to use.\n",
    "\n",
    "We assume that dropout probability and learning rate will be kept at the default, in this example.\n",
    "\n",
    "And in training:\n",
    "* `batch_size` - Number of sequences running through the network in one pass.\n",
    "* `seq_length` - Number of characters in the sequence the network is trained on. Larger is better typically, the network will learn more long range dependencies. But it takes longer to train. 100 is typically a good number here.\n",
    "* `lr` - Learning rate for training\n",
    "\n",
    "Here's some good advice from Andrej Karpathy on training the network. I'm going to copy it in here for your benefit, but also link to [where it originally came from](https://github.com/karpathy/char-rnn#tips-and-tricks).\n",
    "\n",
    "> ## Tips and Tricks\n",
    "\n",
    ">### Monitoring Validation Loss vs. Training Loss\n",
    ">If you're somewhat new to Machine Learning or Neural Networks it can take a bit of expertise to get good models. The most important quantity to keep track of is the difference between your training loss (printed during training) and the validation loss (printed once in a while when the RNN is run on the validation data (by default every 1000 iterations)). In particular:\n",
    "\n",
    "> - If your training loss is much lower than validation loss then this means the network might be **overfitting**. Solutions to this are to decrease your network size, or to increase dropout. For example you could try dropout of 0.5 and so on.\n",
    "> - If your training/validation loss are about equal then your model is **underfitting**. Increase the size of your model (either number of layers or the raw number of neurons per layer)\n",
    "\n",
    "> ### Approximate number of parameters\n",
    "\n",
    "> The two most important parameters that control the model are `n_hidden` and `n_layers`. I would advise that you always use `n_layers` of either 2/3. The `n_hidden` can be adjusted based on how much data you have. The two important quantities to keep track of here are:\n",
    "\n",
    "> - The number of parameters in your model. This is printed when you start training.\n",
    "> - The size of your dataset. 1MB file is approximately 1 million characters.\n",
    "\n",
    ">These two should be about the same order of magnitude. It's a little tricky to tell. Here are some examples:\n",
    "\n",
    "> - I have a 100MB dataset and I'm using the default parameter settings (which currently print 150K parameters). My data size is significantly larger (100 mil >> 0.15 mil), so I expect to heavily underfit. I am thinking I can comfortably afford to make `n_hidden` larger.\n",
    "> - I have a 10MB dataset and running a 10 million parameter model. I'm slightly nervous and I'm carefully monitoring my validation loss. If it's larger than my training loss then I may want to try to increase dropout a bit and see if that helps the validation loss.\n",
    "\n",
    "> ### Best models strategy\n",
    "\n",
    ">The winning strategy to obtaining very good models (if you have the compute time) is to always err on making the network larger (as large as you're willing to wait for it to compute) and then try different dropout values (between 0,1). Whatever model has the best validation performance (the loss, written in the checkpoint filename, low is good) is the one you should use in the end.\n",
    "\n",
    ">It is very common in deep learning to run many different models with many different hyperparameter settings, and in the end take whatever checkpoint gave the best validation performance.\n",
    "\n",
    ">By the way, the size of your training and validation splits are also parameters. Make sure you have a decent amount of data in your validation set or otherwise the validation performance will be noisy and not very informative."
   ]
  },
  {
   "cell_type": "markdown",
   "metadata": {},
   "source": [
    "## Checkpoint\n",
    "\n",
    "After training, we'll save the model so we can load it again later if we need too. Here I'm saving the parameters needed to create the same architecture, the hidden layer hyperparameters and the text characters."
   ]
  },
  {
   "cell_type": "code",
   "execution_count": 39,
   "metadata": {},
   "outputs": [],
   "source": [
    "# change the name, for saving multiple files\n",
    "model_name = 'rnn_20_epoch.net'\n",
    "\n",
    "checkpoint = {'n_hidden': net.n_hidden,\n",
    "              'n_layers': net.n_layers,\n",
    "              'state_dict': net.state_dict(),\n",
    "              'tokens': net.chars}\n",
    "\n",
    "with open(model_name, 'wb') as f:\n",
    "    torch.save(checkpoint, f)"
   ]
  },
  {
   "cell_type": "markdown",
   "metadata": {},
   "source": [
    "---\n",
    "## Making Predictions\n",
    "\n",
    "Now that the model is trained, we'll want to sample from it and make predictions about next characters! To sample, we pass in a character and have the network predict the next character. Then we take that character, pass it back in, and get another predicted character. Just keep doing this and you'll generate a bunch of text!\n",
    "\n",
    "### A note on the `predict`  function\n",
    "\n",
    "The output of our RNN is from a fully-connected layer and it outputs a **distribution of next-character scores**.\n",
    "\n",
    "> To actually get the next character, we apply a softmax function, which gives us a *probability* distribution that we can then sample to predict the next character.\n",
    "\n",
    "### Top K sampling\n",
    "\n",
    "Our predictions come from a categorical probability distribution over all the possible characters. We can make the sample text and make it more reasonable to handle (with less variables) by only considering some $K$ most probable characters. This will prevent the network from giving us completely absurd characters while allowing it to introduce some noise and randomness into the sampled text. Read more about [topk, here](https://pytorch.org/docs/stable/torch.html#torch.topk).\n"
   ]
  },
  {
   "cell_type": "code",
   "execution_count": 40,
   "metadata": {},
   "outputs": [],
   "source": [
    "def predict(net, char, h=None, top_k=None):\n",
    "        ''' Given a character, predict the next character.\n",
    "            Returns the predicted character and the hidden state.\n",
    "        '''\n",
    "        \n",
    "        # tensor inputs\n",
    "        x = np.array([[net.char2int[char]]])\n",
    "        x = one_hot_encode(x, len(net.chars))\n",
    "        inputs = torch.from_numpy(x)\n",
    "        \n",
    "        if(train_on_gpu):\n",
    "            inputs = inputs.cuda()\n",
    "        \n",
    "        # detach hidden state from history\n",
    "        h = tuple([each.data for each in h])\n",
    "        # get the output of the model\n",
    "        out, h = net(inputs, h)\n",
    "\n",
    "        # get the character probabilities\n",
    "        p = F.softmax(out, dim=1).data\n",
    "        if(train_on_gpu):\n",
    "            p = p.cpu() # move to cpu\n",
    "        \n",
    "        # get top characters\n",
    "        if top_k is None:\n",
    "            top_ch = np.arange(len(net.chars))\n",
    "        else:\n",
    "            p, top_ch = p.topk(top_k)\n",
    "            top_ch = top_ch.numpy().squeeze()\n",
    "        \n",
    "        # select the likely next character with some element of randomness\n",
    "        p = p.numpy().squeeze()\n",
    "        char = np.random.choice(top_ch, p=p/p.sum())\n",
    "        \n",
    "        # return the encoded value of the predicted char and the hidden state\n",
    "        return net.int2char[char], h"
   ]
  },
  {
   "cell_type": "markdown",
   "metadata": {},
   "source": [
    "### Priming and generating text \n",
    "\n",
    "Typically you'll want to prime the network so you can build up a hidden state. Otherwise the network will start out generating characters at random. In general the first bunch of characters will be a little rough since it hasn't built up a long history of characters to predict from."
   ]
  },
  {
   "cell_type": "code",
   "execution_count": 41,
   "metadata": {},
   "outputs": [],
   "source": [
    "def sample(net, size, prime='The', top_k=None):\n",
    "        \n",
    "    if(train_on_gpu):\n",
    "        net.cuda()\n",
    "    else:\n",
    "        net.cpu()\n",
    "    \n",
    "    net.eval() # eval mode\n",
    "    \n",
    "    # First off, run through the prime characters\n",
    "    chars = [ch for ch in prime]\n",
    "    h = net.init_hidden(1)\n",
    "    for ch in prime:\n",
    "        char, h = predict(net, ch, h, top_k=top_k)\n",
    "\n",
    "    chars.append(char)\n",
    "    \n",
    "    # Now pass in the previous character and get a new one\n",
    "    for ii in range(size):\n",
    "        char, h = predict(net, chars[-1], h, top_k=top_k)\n",
    "        chars.append(char)\n",
    "\n",
    "    return ''.join(chars)"
   ]
  },
  {
   "cell_type": "code",
   "execution_count": 42,
   "metadata": {},
   "outputs": [
    {
     "name": "stdout",
     "output_type": "stream",
     "text": [
      "Anna Anday.\n",
      "\n",
      "These was nice as if he was starting for the same thing, but it\n",
      "seemed to her, they so as to to distante the mental pensions. All\n",
      "the distinction of the crushed her stoppent with the mentions of something\n",
      "that they was a paring from the striens of thought.\n",
      "\n",
      "\"I'm a long of a choor....\n",
      "I don't know what is in the corner, to think thas's an outern, and I've all\n",
      "the brothers, and they were still as something brush after the stear\n",
      "to all of anyone. I have begun the moment of the same immediate and many\n",
      "time that she said he was not so to be so much struck the time of a\n",
      "lady...\"\n",
      "\n",
      "\"No. By that stay in the marshal of the course it would be ask\n",
      "you to be all the pass.\"\n",
      "\n",
      "\"I have nothing to drive my there. I was thinking of it!\"\n",
      "\n",
      "\"You mean? I hear the same success.\"\n",
      "\n",
      "The same all that stood the property of that sen of happening. So a\n",
      "minute that there was since his countess were not to think all\n",
      "that was not a long while and the footman were sent in her. He had\n",
      "asked him in his extreme, s\n"
     ]
    }
   ],
   "source": [
    "print(sample(net, 1000, prime='Anna', top_k=5))"
   ]
  },
  {
   "cell_type": "markdown",
   "metadata": {},
   "source": [
    "## Loading a checkpoint"
   ]
  },
  {
   "cell_type": "code",
   "execution_count": 43,
   "metadata": {},
   "outputs": [
    {
     "data": {
      "text/plain": [
       "<All keys matched successfully>"
      ]
     },
     "execution_count": 43,
     "metadata": {},
     "output_type": "execute_result"
    }
   ],
   "source": [
    "# Here we have loaded in a model that trained over 20 epochs `rnn_20_epoch.net`\n",
    "with open('rnn_20_epoch.net', 'rb') as f:\n",
    "    checkpoint = torch.load(f)\n",
    "    \n",
    "loaded = CharRNN(checkpoint['tokens'], n_hidden=checkpoint['n_hidden'], n_layers=checkpoint['n_layers'])\n",
    "loaded.load_state_dict(checkpoint['state_dict'])"
   ]
  },
  {
   "cell_type": "code",
   "execution_count": 44,
   "metadata": {},
   "outputs": [
    {
     "name": "stdout",
     "output_type": "stream",
     "text": [
      "And Levin said\n",
      "to his standing with such tract.\n",
      "\n",
      "\"Well, this set to have a friends.\"\n",
      "\n",
      "Alexey Alexandrovitch was satisfied, and would be taken to him\n",
      "what he had not thought till he stolded, and so that he was a first\n",
      "must take off the call and some second friendles, there was no room,\n",
      "the probiting tries of her feeling, and his excitement had the countess that\n",
      "the depressability of his father she was not learificing him, there\n",
      "was an evening he fought to diver their still that it had\n",
      "been thinking. He was alloted to stend the children.\n",
      "\n",
      "Then he could not have something about a concentrated being alone. Beginned\n",
      "hostelly, and too made the stream, and so it was still strength of all\n",
      "sides. She was as always dropped, he had been so living to horror in the\n",
      "story, would have to defend the table there had another\n",
      "strong personse to the signs at the service to any servants of\n",
      "second, and he had not been to settle all the same.\n",
      "\n",
      "\"Why she would be much all the sorr of carity,\" said Vronsky. \"It's silent\n",
      "firm and saying. I'll see you so much our consultation....\"\n",
      "\n",
      "\"No mannorise. It's not the carriage thirg along, the muscaserol.\n",
      "You see, I'm a matter on her mother. The decision of that though, in\n",
      "all at once all alone. Well, what was the sense of the same an instant?\"\n",
      "\n",
      "And he was standing the sort of selves that\n",
      "he was not in a late, the position of the same tears took her train\n",
      "to horry that his father would not help being say was that there was\n",
      "oflection were alone the peasants's friend.\n",
      "\n",
      "After dressed that it was not a sight of the more there he had\n",
      "been as if he said timed and had been a little ball for the\n",
      "same figure that they stouded in home. She went into him by his\n",
      "condition with him.\n",
      "\n",
      "Stepan Arkadyevitch had struck him and the master and the princess transformed\n",
      "with a land fashion.\n",
      "\n",
      "\"Well, there's something not taken up.\"\n",
      "\n",
      "\"What is it!\" she said to the sofiture of hat see his head, black how he was\n",
      "siling to be suck a short time with her, turning to Alexey Alexandrovitch to\n",
      "the c\n"
     ]
    }
   ],
   "source": [
    "# Sample using a loaded model\n",
    "print(sample(loaded, 2000, top_k=5, prime=\"And Levin said\"))"
   ]
  },
  {
   "cell_type": "code",
   "execution_count": null,
   "metadata": {
    "collapsed": true
   },
   "outputs": [],
   "source": []
  }
 ],
 "metadata": {
  "kernelspec": {
   "display_name": "Python 3",
   "language": "python",
   "name": "python3"
  },
  "language_info": {
   "codemirror_mode": {
    "name": "ipython",
    "version": 3
   },
   "file_extension": ".py",
   "mimetype": "text/x-python",
   "name": "python",
   "nbconvert_exporter": "python",
   "pygments_lexer": "ipython3",
   "version": "3.6.9"
  }
 },
 "nbformat": 4,
 "nbformat_minor": 2
}
