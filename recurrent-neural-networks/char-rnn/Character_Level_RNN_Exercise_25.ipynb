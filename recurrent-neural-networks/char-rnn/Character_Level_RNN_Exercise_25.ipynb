{
 "cells": [
  {
   "cell_type": "markdown",
   "metadata": {},
   "source": [
    "# Character-Level LSTM in PyTorch\n",
    "\n",
    "In this notebook, I'll construct a character-level LSTM with PyTorch. The network will train character by character on some text, then generate new text character by character. As an example, I will train on Anna Karenina. **This model will be able to generate new text based on the text from the book!**\n",
    "\n",
    "This network is based off of Andrej Karpathy's [post on RNNs](http://karpathy.github.io/2015/05/21/rnn-effectiveness/) and [implementation in Torch](https://github.com/karpathy/char-rnn). Below is the general architecture of the character-wise RNN.\n",
    "\n",
    "<img src=\"assets/charseq.jpeg\" width=\"500\">"
   ]
  },
  {
   "cell_type": "markdown",
   "metadata": {},
   "source": [
    "First let's load in our required resources for data loading and model creation."
   ]
  },
  {
   "cell_type": "code",
   "execution_count": 1,
   "metadata": {},
   "outputs": [],
   "source": [
    "import numpy as np\n",
    "import torch\n",
    "from torch import nn\n",
    "import torch.nn.functional as F"
   ]
  },
  {
   "cell_type": "markdown",
   "metadata": {},
   "source": [
    "## Load in Data\n",
    "\n",
    "Then, we'll load the Anna Karenina text file and convert it into integers for our network to use. "
   ]
  },
  {
   "cell_type": "code",
   "execution_count": 2,
   "metadata": {},
   "outputs": [],
   "source": [
    "# open text file and read in data as `text`\n",
    "with open('data/anna.txt', 'r') as f:\n",
    "    text = f.read()"
   ]
  },
  {
   "cell_type": "markdown",
   "metadata": {},
   "source": [
    "Let's check out the first 100 characters, make sure everything is peachy. According to the [American Book Review](http://americanbookreview.org/100bestlines.asp), this is the 6th best first line of a book ever."
   ]
  },
  {
   "cell_type": "code",
   "execution_count": 3,
   "metadata": {},
   "outputs": [
    {
     "data": {
      "text/plain": [
       "'Chapter 1\\n\\n\\nHappy families are all alike; every unhappy family is unhappy in its own\\nway.\\n\\nEverythin'"
      ]
     },
     "execution_count": 3,
     "metadata": {},
     "output_type": "execute_result"
    }
   ],
   "source": [
    "text[:100]"
   ]
  },
  {
   "cell_type": "markdown",
   "metadata": {},
   "source": [
    "### Tokenization\n",
    "\n",
    "In the cells, below, I'm creating a couple **dictionaries** to convert the characters to and from integers. Encoding the characters as integers makes it easier to use as input in the network."
   ]
  },
  {
   "cell_type": "code",
   "execution_count": 4,
   "metadata": {},
   "outputs": [
    {
     "name": "stdout",
     "output_type": "stream",
     "text": [
      "('l', '9', 'A', 'G', 'o', 'E', '7', 'h', 'a', 'I', 'k', 'b', '?', 'L', '@', 'H', 'O', 'e', 'F', ',', ':', '$', '(', 'd', '2', 'R', 'J', '1', 'W', '*', '%', '\"', 'j', '&', '\\n', 'V', '/', 'c', 'i', 'w', 'X', ' ', 'x', 'y', '.', ')', \"'\", 't', 's', '8', 'q', 'D', 'Z', 'U', 'm', 'B', '4', '0', 'S', '3', '5', 'z', '6', '_', 'n', 'M', 'C', 'N', '!', 'f', 'u', '-', 'K', 'P', '`', 'r', 'Y', 'T', 'Q', 'p', 'v', 'g', ';')\n"
     ]
    }
   ],
   "source": [
    "# encode the text and map each character to an integer and vice versa\n",
    "\n",
    "# we create two dictionaries:\n",
    "# 1. int2char, which maps integers to characters\n",
    "# 2. char2int, which maps characters to unique integers\n",
    "chars = tuple(set(text))\n",
    "print(chars)\n",
    "int2char = dict(enumerate(chars))\n",
    "char2int = {ch: ii for ii, ch in int2char.items()}\n",
    "\n",
    "# encode the text\n",
    "encoded = np.array([char2int[ch] for ch in text])"
   ]
  },
  {
   "cell_type": "markdown",
   "metadata": {},
   "source": [
    "And we can see those same characters from above, encoded as integers."
   ]
  },
  {
   "cell_type": "code",
   "execution_count": 5,
   "metadata": {},
   "outputs": [
    {
     "data": {
      "text/plain": [
       "array([66,  7,  8, 79, 47, 17, 75, 41, 27, 34, 34, 34, 15,  8, 79, 79, 43,\n",
       "       41, 69,  8, 54, 38,  0, 38, 17, 48, 41,  8, 75, 17, 41,  8,  0,  0,\n",
       "       41,  8,  0, 38, 10, 17, 82, 41, 17, 80, 17, 75, 43, 41, 70, 64,  7,\n",
       "        8, 79, 79, 43, 41, 69,  8, 54, 38,  0, 43, 41, 38, 48, 41, 70, 64,\n",
       "        7,  8, 79, 79, 43, 41, 38, 64, 41, 38, 47, 48, 41,  4, 39, 64, 34,\n",
       "       39,  8, 43, 44, 34, 34,  5, 80, 17, 75, 43, 47,  7, 38, 64])"
      ]
     },
     "execution_count": 5,
     "metadata": {},
     "output_type": "execute_result"
    }
   ],
   "source": [
    "encoded[:100]"
   ]
  },
  {
   "cell_type": "markdown",
   "metadata": {},
   "source": [
    "## Pre-processing the data\n",
    "\n",
    "As you can see in our char-RNN image above, our LSTM expects an input that is **one-hot encoded** meaning that each character is converted into an integer (via our created dictionary) and *then* converted into a column vector where only it's corresponding integer index will have the value of 1 and the rest of the vector will be filled with 0's. Since we're one-hot encoding the data, let's make a function to do that!\n"
   ]
  },
  {
   "cell_type": "code",
   "execution_count": 6,
   "metadata": {},
   "outputs": [],
   "source": [
    "def one_hot_encode(arr, n_labels):\n",
    "    \n",
    "    # Initialize the the encoded array\n",
    "    one_hot = np.zeros((np.multiply(*arr.shape), n_labels), dtype=np.float32)\n",
    "    \n",
    "    # Fill the appropriate elements with ones\n",
    "    one_hot[np.arange(one_hot.shape[0]), arr.flatten()] = 1.\n",
    "    \n",
    "    # Finally reshape it to get back to the original array\n",
    "    one_hot = one_hot.reshape((*arr.shape, n_labels))\n",
    "    \n",
    "    return one_hot"
   ]
  },
  {
   "cell_type": "code",
   "execution_count": 7,
   "metadata": {},
   "outputs": [
    {
     "name": "stdout",
     "output_type": "stream",
     "text": [
      "[[[ 0.  0.  0.  1.  0.  0.  0.  0.  0.  0.  0.  0.  0.  0.  0.  0.  0.  0.]\n",
      "  [ 0.  0.  0.  0.  0.  1.  0.  0.  0.  0.  0.  0.  0.  0.  0.  0.  0.  0.]\n",
      "  [ 0.  1.  0.  0.  0.  0.  0.  0.  0.  0.  0.  0.  0.  0.  0.  0.  0.  0.]]]\n"
     ]
    }
   ],
   "source": [
    "# check that the function works as expected\n",
    "test_seq = np.array([[3, 5, 1]])\n",
    "one_hot = one_hot_encode(test_seq, 18)\n",
    "\n",
    "print(one_hot)"
   ]
  },
  {
   "cell_type": "markdown",
   "metadata": {},
   "source": [
    "## Making training mini-batches\n",
    "\n",
    "\n",
    "To train on this data, we also want to create mini-batches for training. Remember that we want our batches to be multiple sequences of some desired number of sequence steps. Considering a simple example, our batches would look like this:\n",
    "\n",
    "<img src=\"assets/sequence_batching@1x.png\" width=500px>\n",
    "\n",
    "\n",
    "<br>\n",
    "\n",
    "In this example, we'll take the encoded characters (passed in as the `arr` parameter) and split them into multiple sequences, given by `batch_size`. Each of our sequences will be `seq_length` long.\n",
    "\n",
    "### Creating Batches\n",
    "\n",
    "**1. The first thing we need to do is discard some of the text so we only have completely full mini-batches. **\n",
    "\n",
    "Each batch contains $N \\times M$ characters, where $N$ is the batch size (the number of sequences in a batch) and $M$ is the seq_length or number of time steps in a sequence. Then, to get the total number of batches, $K$, that we can make from the array `arr`, you divide the length of `arr` by the number of characters per batch. Once you know the number of batches, you can get the total number of characters to keep from `arr`, $N * M * K$.\n",
    "\n",
    "**2. After that, we need to split `arr` into $N$ batches. ** \n",
    "\n",
    "You can do this using `arr.reshape(size)` where `size` is a tuple containing the dimensions sizes of the reshaped array. We know we want $N$ sequences in a batch, so let's make that the size of the first dimension. For the second dimension, you can use `-1` as a placeholder in the size, it'll fill up the array with the appropriate data for you. After this, you should have an array that is $N \\times (M * K)$.\n",
    "\n",
    "**3. Now that we have this array, we can iterate through it to get our mini-batches. **\n",
    "\n",
    "The idea is each batch is a $N \\times M$ window on the $N \\times (M * K)$ array. For each subsequent batch, the window moves over by `seq_length`. We also want to create both the input and target arrays. Remember that the targets are just the inputs shifted over by one character. The way I like to do this window is use `range` to take steps of size `n_steps` from $0$ to `arr.shape[1]`, the total number of tokens in each sequence. That way, the integers you get from `range` always point to the start of a batch, and each window is `seq_length` wide.\n",
    "\n",
    "> **TODO:** Write the code for creating batches in the function below. The exercises in this notebook _will not be easy_. I've provided a notebook with solutions alongside this notebook. If you get stuck, checkout the solutions. The most important thing is that you don't copy and paste the code into here, **type out the solution code yourself.**"
   ]
  },
  {
   "cell_type": "code",
   "execution_count": 8,
   "metadata": {},
   "outputs": [],
   "source": [
    "def get_batches(arr, batch_size, seq_length):\n",
    "    '''Create a generator that returns batches of size\n",
    "       batch_size x seq_length from arr.\n",
    "       \n",
    "       Arguments\n",
    "       ---------\n",
    "       arr: Array you want to make batches from\n",
    "       batch_size: Batch size, the number of sequences per batch\n",
    "       seq_length: Number of encoded chars in a sequence\n",
    "    '''\n",
    "    #print(len(arr))\n",
    "    ## TODO: Get the number of batches we can make\n",
    "    batch_size_total = batch_size * seq_length\n",
    "    n_batches = len(arr)//batch_size_total\n",
    "    #print(n_batches)\n",
    "    ## TODO: Keep only enough characters to make full batches\n",
    "    arr = arr[:n_batches * batch_size_total]\n",
    "    #print(len(arr))\n",
    "    ## TODO: Reshape into batch_size rows\n",
    "    arr = arr.reshape((batch_size, -1))\n",
    "    #print(batch_size_total)\n",
    "    ## TODO: Iterate over the batches using a window of size seq_length\n",
    "    for n in range(0, arr.shape[1], seq_length):\n",
    "        # The features\n",
    "        x = arr[:, n:n+seq_length]\n",
    "        # The targets, shifted by one\n",
    "        y = np.zeros_like(x)\n",
    "        try:\n",
    "            y[:, :-1], y[:, -1] = x[:, 1:], arr[:, n+seq_length]\n",
    "        except IndexError:\n",
    "            y[:, :-1], y[:, -1] = x[:, 1:], arr[:, 0]\n",
    "        yield x, y"
   ]
  },
  {
   "cell_type": "markdown",
   "metadata": {},
   "source": [
    "### Test Your Implementation\n",
    "\n",
    "Now I'll make some data sets and we can check out what's going on as we batch data. Here, as an example, I'm going to use a batch size of 8 and 50 sequence steps."
   ]
  },
  {
   "cell_type": "code",
   "execution_count": 9,
   "metadata": {},
   "outputs": [],
   "source": [
    "batches = get_batches(encoded, 8, 50)\n",
    "x, y = next(batches)"
   ]
  },
  {
   "cell_type": "code",
   "execution_count": 10,
   "metadata": {},
   "outputs": [
    {
     "name": "stdout",
     "output_type": "stream",
     "text": [
      "x\n",
      " [[66  7  8 79 47 17 75 41 27 34]\n",
      " [48  4 64 41 47  7  8 47 41  8]\n",
      " [17 64 23 41  4 75 41  8 41 69]\n",
      " [48 41 47  7 17 41 37  7 38 17]\n",
      " [41 48  8 39 41  7 17 75 41 47]\n",
      " [37 70 48 48 38  4 64 41  8 64]\n",
      " [41  2 64 64  8 41  7  8 23 41]\n",
      " [16 11  0  4 64 48 10 43 44 41]]\n",
      "\n",
      "y\n",
      " [[ 7  8 79 47 17 75 41 27 34 34]\n",
      " [ 4 64 41 47  7  8 47 41  8 47]\n",
      " [64 23 41  4 75 41  8 41 69  4]\n",
      " [41 47  7 17 41 37  7 38 17 69]\n",
      " [48  8 39 41  7 17 75 41 47 17]\n",
      " [70 48 48 38  4 64 41  8 64 23]\n",
      " [ 2 64 64  8 41  7  8 23 41 48]\n",
      " [11  0  4 64 48 10 43 44 41 31]]\n"
     ]
    }
   ],
   "source": [
    "# printing out the first 10 items in a sequence\n",
    "print('x\\n', x[:10, :10])\n",
    "print('\\ny\\n', y[:10, :10])"
   ]
  },
  {
   "cell_type": "markdown",
   "metadata": {},
   "source": [
    "If you implemented `get_batches` correctly, the above output should look something like \n",
    "```\n",
    "x\n",
    " [[25  8 60 11 45 27 28 73  1  2]\n",
    " [17  7 20 73 45  8 60 45 73 60]\n",
    " [27 20 80 73  7 28 73 60 73 65]\n",
    " [17 73 45  8 27 73 66  8 46 27]\n",
    " [73 17 60 12 73  8 27 28 73 45]\n",
    " [66 64 17 17 46  7 20 73 60 20]\n",
    " [73 76 20 20 60 73  8 60 80 73]\n",
    " [47 35 43  7 20 17 24 50 37 73]]\n",
    "\n",
    "y\n",
    " [[ 8 60 11 45 27 28 73  1  2  2]\n",
    " [ 7 20 73 45  8 60 45 73 60 45]\n",
    " [20 80 73  7 28 73 60 73 65  7]\n",
    " [73 45  8 27 73 66  8 46 27 65]\n",
    " [17 60 12 73  8 27 28 73 45 27]\n",
    " [64 17 17 46  7 20 73 60 20 80]\n",
    " [76 20 20 60 73  8 60 80 73 17]\n",
    " [35 43  7 20 17 24 50 37 73 36]]\n",
    " ```\n",
    " although the exact numbers may be different. Check to make sure the data is shifted over one step for `y`."
   ]
  },
  {
   "cell_type": "markdown",
   "metadata": {},
   "source": [
    "---\n",
    "## Defining the network with PyTorch\n",
    "\n",
    "Below is where you'll define the network.\n",
    "\n",
    "<img src=\"assets/charRNN.png\" width=500px>\n",
    "\n",
    "Next, you'll use PyTorch to define the architecture of the network. We start by defining the layers and operations we want. Then, define a method for the forward pass. You've also been given a method for predicting characters."
   ]
  },
  {
   "cell_type": "markdown",
   "metadata": {},
   "source": [
    "### Model Structure\n",
    "\n",
    "In `__init__` the suggested structure is as follows:\n",
    "* Create and store the necessary dictionaries (this has been done for you)\n",
    "* Define an LSTM layer that takes as params: an input size (the number of characters), a hidden layer size `n_hidden`, a number of layers `n_layers`, a dropout probability `drop_prob`, and a batch_first boolean (True, since we are batching)\n",
    "* Define a dropout layer with `dropout_prob`\n",
    "* Define a fully-connected layer with params: input size `n_hidden` and output size (the number of characters)\n",
    "* Finally, initialize the weights (again, this has been given)\n",
    "\n",
    "Note that some parameters have been named and given in the `__init__` function, and we use them and store them by doing something like `self.drop_prob = drop_prob`."
   ]
  },
  {
   "cell_type": "markdown",
   "metadata": {},
   "source": [
    "---\n",
    "### LSTM Inputs/Outputs\n",
    "\n",
    "You can create a basic [LSTM layer](https://pytorch.org/docs/stable/nn.html#lstm) as follows\n",
    "\n",
    "```python\n",
    "self.lstm = nn.LSTM(input_size, n_hidden, n_layers, \n",
    "                            dropout=drop_prob, batch_first=True)\n",
    "```\n",
    "\n",
    "where `input_size` is the number of characters this cell expects to see as sequential input, and `n_hidden` is the number of units in the hidden layers in the cell. And we can add dropout by adding a dropout parameter with a specified probability; this will automatically add dropout to the inputs or outputs. Finally, in the `forward` function, we can stack up the LSTM cells into layers using `.view`. With this, you pass in a list of cells and it will send the output of one cell into the next cell.\n",
    "\n",
    "We also need to create an initial hidden state of all zeros. This is done like so\n",
    "\n",
    "```python\n",
    "self.init_hidden()\n",
    "```"
   ]
  },
  {
   "cell_type": "code",
   "execution_count": 11,
   "metadata": {},
   "outputs": [
    {
     "name": "stdout",
     "output_type": "stream",
     "text": [
      "Training on GPU!\n"
     ]
    }
   ],
   "source": [
    "# check if GPU is available\n",
    "train_on_gpu = torch.cuda.is_available()\n",
    "if(train_on_gpu):\n",
    "    print('Training on GPU!')\n",
    "else: \n",
    "    print('No GPU available, training on CPU; consider making n_epochs very small.')"
   ]
  },
  {
   "cell_type": "code",
   "execution_count": 12,
   "metadata": {},
   "outputs": [],
   "source": [
    "class CharRNN(nn.Module):\n",
    "    \n",
    "    def __init__(self, tokens, n_hidden=256, n_layers=2,\n",
    "                               drop_prob=0.5, lr=0.001):\n",
    "        super().__init__()\n",
    "        self.drop_prob = drop_prob\n",
    "        self.n_layers = n_layers\n",
    "        self.n_hidden = n_hidden\n",
    "        self.lr = lr\n",
    "        \n",
    "        # creating character dictionaries\n",
    "        self.chars = tokens\n",
    "        self.int2char = dict(enumerate(self.chars))\n",
    "        self.char2int = {ch: ii for ii, ch in self.int2char.items()}\n",
    "        \n",
    "        ## TODO: define the layers of the model\n",
    "        self.lstm = nn.LSTM(len(self.chars), n_hidden, n_layers, dropout=drop_prob, batch_first=True)\n",
    "        self.dropout = nn.Dropout(drop_prob)\n",
    "        self.fc = nn.Linear(n_hidden, len(self.chars))\n",
    "      \n",
    "    \n",
    "    def forward(self, x, hidden):\n",
    "        ''' Forward pass through the network. \n",
    "            These inputs are x, and the hidden/cell state `hidden`. '''\n",
    "                \n",
    "        ## TODO: Get the outputs and the new hidden state from the lstm\n",
    "        r_output, hidden = self.lstm(x, hidden)\n",
    "        \n",
    "        ## TODO: pass through a dropout layer\n",
    "        out = self.dropout(r_output)\n",
    "        \n",
    "        # Stack up LSTM outputs using view\n",
    "        # you may need to use contiguous to reshape the output\n",
    "        out = out.contiguous().view(-1, self.n_hidden)\n",
    "        \n",
    "        ## TODO: put x through the fully-connected layer\n",
    "        out = self.fc(out)\n",
    "        \n",
    "        # return the final output and the hidden state\n",
    "        return out, hidden\n",
    "    \n",
    "    \n",
    "    def init_hidden(self, batch_size):\n",
    "        ''' Initializes hidden state '''\n",
    "        # Create two new tensors with sizes n_layers x batch_size x n_hidden,\n",
    "        # initialized to zero, for hidden state and cell state of LSTM\n",
    "        weight = next(self.parameters()).data\n",
    "        \n",
    "        if (train_on_gpu):\n",
    "            hidden = (weight.new(self.n_layers, batch_size, self.n_hidden).zero_().cuda(),\n",
    "                  weight.new(self.n_layers, batch_size, self.n_hidden).zero_().cuda())\n",
    "        else:\n",
    "            hidden = (weight.new(self.n_layers, batch_size, self.n_hidden).zero_(),\n",
    "                      weight.new(self.n_layers, batch_size, self.n_hidden).zero_())\n",
    "        \n",
    "        return hidden\n",
    "        "
   ]
  },
  {
   "cell_type": "markdown",
   "metadata": {},
   "source": [
    "## Time to train\n",
    "\n",
    "The train function gives us the ability to set the number of epochs, the learning rate, and other parameters.\n",
    "\n",
    "Below we're using an Adam optimizer and cross entropy loss since we are looking at character class scores as output. We calculate the loss and perform backpropagation, as usual!\n",
    "\n",
    "A couple of details about training: \n",
    ">* Within the batch loop, we detach the hidden state from its history; this time setting it equal to a new *tuple* variable because an LSTM has a hidden state that is a tuple of the hidden and cell states.\n",
    "* We use [`clip_grad_norm_`](https://pytorch.org/docs/stable/_modules/torch/nn/utils/clip_grad.html) to help prevent exploding gradients."
   ]
  },
  {
   "cell_type": "code",
   "execution_count": 13,
   "metadata": {},
   "outputs": [],
   "source": [
    "def train(net, data, epochs=10, batch_size=10, seq_length=50, lr=0.001, clip=5, val_frac=0.1, print_every=10):\n",
    "    ''' Training a network \n",
    "    \n",
    "        Arguments\n",
    "        ---------\n",
    "        \n",
    "        net: CharRNN network\n",
    "        data: text data to train the network\n",
    "        epochs: Number of epochs to train\n",
    "        batch_size: Number of mini-sequences per mini-batch, aka batch size\n",
    "        seq_length: Number of character steps per mini-batch\n",
    "        lr: learning rate\n",
    "        clip: gradient clipping\n",
    "        val_frac: Fraction of data to hold out for validation\n",
    "        print_every: Number of steps for printing training and validation loss\n",
    "    \n",
    "    '''\n",
    "    net.train()\n",
    "    \n",
    "    opt = torch.optim.Adam(net.parameters(), lr=lr)\n",
    "    criterion = nn.CrossEntropyLoss()\n",
    "    \n",
    "    # create training and validation data\n",
    "    val_idx = int(len(data)*(1-val_frac))\n",
    "    data, val_data = data[:val_idx], data[val_idx:]\n",
    "    \n",
    "    if(train_on_gpu):\n",
    "        net.cuda()\n",
    "    \n",
    "    counter = 0\n",
    "    n_chars = len(net.chars)\n",
    "    for e in range(epochs):\n",
    "        # initialize hidden state\n",
    "        h = net.init_hidden(batch_size)\n",
    "        \n",
    "        for x, y in get_batches(data, batch_size, seq_length):\n",
    "            counter += 1\n",
    "            \n",
    "            # One-hot encode our data and make them Torch tensors\n",
    "            x = one_hot_encode(x, n_chars)\n",
    "            inputs, targets = torch.from_numpy(x), torch.from_numpy(y)\n",
    "            \n",
    "            if(train_on_gpu):\n",
    "                inputs, targets = inputs.cuda(), targets.cuda()\n",
    "\n",
    "            # Creating new variables for the hidden state, otherwise\n",
    "            # we'd backprop through the entire training history\n",
    "            h = tuple([each.data for each in h])\n",
    "\n",
    "            # zero accumulated gradients\n",
    "            net.zero_grad()\n",
    "            \n",
    "            # get the output from the model\n",
    "            output, h = net(inputs, h)\n",
    "            \n",
    "            # calculate the loss and perform backprop\n",
    "            loss = criterion(output, targets.view(batch_size*seq_length))\n",
    "            loss.backward()\n",
    "            # `clip_grad_norm` helps prevent the exploding gradient problem in RNNs / LSTMs.\n",
    "            nn.utils.clip_grad_norm_(net.parameters(), clip)\n",
    "            opt.step()\n",
    "            \n",
    "            # loss stats\n",
    "            if counter % print_every == 0:\n",
    "                # Get validation loss\n",
    "                val_h = net.init_hidden(batch_size)\n",
    "                val_losses = []\n",
    "                net.eval()\n",
    "                for x, y in get_batches(val_data, batch_size, seq_length):\n",
    "                    # One-hot encode our data and make them Torch tensors\n",
    "                    x = one_hot_encode(x, n_chars)\n",
    "                    x, y = torch.from_numpy(x), torch.from_numpy(y)\n",
    "                    \n",
    "                    # Creating new variables for the hidden state, otherwise\n",
    "                    # we'd backprop through the entire training history\n",
    "                    val_h = tuple([each.data for each in val_h])\n",
    "                    \n",
    "                    inputs, targets = x, y\n",
    "                    if(train_on_gpu):\n",
    "                        inputs, targets = inputs.cuda(), targets.cuda()\n",
    "\n",
    "                    output, val_h = net(inputs, val_h)\n",
    "                    val_loss = criterion(output, targets.view(batch_size*seq_length))\n",
    "                \n",
    "                    val_losses.append(val_loss.item())\n",
    "                \n",
    "                net.train() # reset to train mode after iterationg through validation data\n",
    "                \n",
    "                print(\"Epoch: {}/{}...\".format(e+1, epochs),\n",
    "                      \"Step: {}...\".format(counter),\n",
    "                      \"Loss: {:.4f}...\".format(loss.item()),\n",
    "                      \"Val Loss: {:.4f}\".format(np.mean(val_losses)))"
   ]
  },
  {
   "cell_type": "markdown",
   "metadata": {},
   "source": [
    "## Instantiating the model\n",
    "\n",
    "Now we can actually train the network. First we'll create the network itself, with some given hyperparameters. Then, define the mini-batches sizes, and start training!"
   ]
  },
  {
   "cell_type": "code",
   "execution_count": 14,
   "metadata": {},
   "outputs": [
    {
     "name": "stdout",
     "output_type": "stream",
     "text": [
      "CharRNN(\n",
      "  (lstm): LSTM(83, 500, num_layers=2, batch_first=True, dropout=0.5)\n",
      "  (dropout): Dropout(p=0.5)\n",
      "  (fc): Linear(in_features=500, out_features=83, bias=True)\n",
      ")\n"
     ]
    }
   ],
   "source": [
    "## TODO: set you model hyperparameters\n",
    "# define and print the net\n",
    "n_hidden=500\n",
    "n_layers=2\n",
    "\n",
    "net = CharRNN(chars, n_hidden, n_layers)\n",
    "print(net)"
   ]
  },
  {
   "cell_type": "markdown",
   "metadata": {},
   "source": [
    "### Set your training hyperparameters!"
   ]
  },
  {
   "cell_type": "code",
   "execution_count": 15,
   "metadata": {
    "scrolled": true
   },
   "outputs": [
    {
     "name": "stdout",
     "output_type": "stream",
     "text": [
      "Epoch: 1/25... Step: 10... Loss: 3.2281... Val Loss: 3.1781\n",
      "Epoch: 1/25... Step: 20... Loss: 3.1449... Val Loss: 3.1305\n",
      "Epoch: 1/25... Step: 30... Loss: 3.1257... Val Loss: 3.1210\n",
      "Epoch: 1/25... Step: 40... Loss: 3.1274... Val Loss: 3.1190\n",
      "Epoch: 1/25... Step: 50... Loss: 3.1172... Val Loss: 3.1165\n",
      "Epoch: 1/25... Step: 60... Loss: 3.1170... Val Loss: 3.1127\n",
      "Epoch: 1/25... Step: 70... Loss: 3.1023... Val Loss: 3.1053\n",
      "Epoch: 1/25... Step: 80... Loss: 3.1094... Val Loss: 3.0885\n",
      "Epoch: 1/25... Step: 90... Loss: 3.0366... Val Loss: 3.0488\n",
      "Epoch: 2/25... Step: 100... Loss: 2.9760... Val Loss: 2.9814\n",
      "Epoch: 2/25... Step: 110... Loss: 2.8961... Val Loss: 2.8634\n",
      "Epoch: 2/25... Step: 120... Loss: 2.8135... Val Loss: 2.7730\n",
      "Epoch: 2/25... Step: 130... Loss: 2.7068... Val Loss: 2.6820\n",
      "Epoch: 2/25... Step: 140... Loss: 2.5894... Val Loss: 2.5728\n",
      "Epoch: 2/25... Step: 150... Loss: 2.5296... Val Loss: 2.5039\n",
      "Epoch: 2/25... Step: 160... Loss: 2.4824... Val Loss: 2.4532\n",
      "Epoch: 2/25... Step: 170... Loss: 2.4747... Val Loss: 2.4112\n",
      "Epoch: 2/25... Step: 180... Loss: 2.4145... Val Loss: 2.3811\n",
      "Epoch: 3/25... Step: 190... Loss: 2.3742... Val Loss: 2.3511\n",
      "Epoch: 3/25... Step: 200... Loss: 2.3555... Val Loss: 2.3195\n",
      "Epoch: 3/25... Step: 210... Loss: 2.3005... Val Loss: 2.2898\n",
      "Epoch: 3/25... Step: 220... Loss: 2.2828... Val Loss: 2.2567\n",
      "Epoch: 3/25... Step: 230... Loss: 2.2392... Val Loss: 2.2311\n",
      "Epoch: 3/25... Step: 240... Loss: 2.2092... Val Loss: 2.2073\n",
      "Epoch: 3/25... Step: 250... Loss: 2.2074... Val Loss: 2.1771\n",
      "Epoch: 3/25... Step: 260... Loss: 2.1963... Val Loss: 2.1497\n",
      "Epoch: 3/25... Step: 270... Loss: 2.1456... Val Loss: 2.1247\n",
      "Epoch: 4/25... Step: 280... Loss: 2.1513... Val Loss: 2.1030\n",
      "Epoch: 4/25... Step: 290... Loss: 2.0918... Val Loss: 2.0820\n",
      "Epoch: 4/25... Step: 300... Loss: 2.1076... Val Loss: 2.0636\n",
      "Epoch: 4/25... Step: 310... Loss: 2.0355... Val Loss: 2.0434\n",
      "Epoch: 4/25... Step: 320... Loss: 2.0325... Val Loss: 2.0239\n",
      "Epoch: 4/25... Step: 330... Loss: 2.0146... Val Loss: 2.0034\n",
      "Epoch: 4/25... Step: 340... Loss: 2.0137... Val Loss: 1.9836\n",
      "Epoch: 4/25... Step: 350... Loss: 1.9989... Val Loss: 1.9661\n",
      "Epoch: 4/25... Step: 360... Loss: 1.9757... Val Loss: 1.9472\n",
      "Epoch: 4/25... Step: 370... Loss: 1.9365... Val Loss: 1.9310\n",
      "Epoch: 5/25... Step: 380... Loss: 1.9303... Val Loss: 1.9141\n",
      "Epoch: 5/25... Step: 390... Loss: 1.9460... Val Loss: 1.9028\n",
      "Epoch: 5/25... Step: 400... Loss: 1.8988... Val Loss: 1.8847\n",
      "Epoch: 5/25... Step: 410... Loss: 1.9001... Val Loss: 1.8731\n",
      "Epoch: 5/25... Step: 420... Loss: 1.8927... Val Loss: 1.8549\n",
      "Epoch: 5/25... Step: 430... Loss: 1.8438... Val Loss: 1.8423\n",
      "Epoch: 5/25... Step: 440... Loss: 1.8648... Val Loss: 1.8321\n",
      "Epoch: 5/25... Step: 450... Loss: 1.8396... Val Loss: 1.8155\n",
      "Epoch: 5/25... Step: 460... Loss: 1.8462... Val Loss: 1.8064\n",
      "Epoch: 6/25... Step: 470... Loss: 1.8037... Val Loss: 1.7927\n",
      "Epoch: 6/25... Step: 480... Loss: 1.8527... Val Loss: 1.7808\n",
      "Epoch: 6/25... Step: 490... Loss: 1.7995... Val Loss: 1.7713\n",
      "Epoch: 6/25... Step: 500... Loss: 1.8301... Val Loss: 1.7608\n",
      "Epoch: 6/25... Step: 510... Loss: 1.7467... Val Loss: 1.7510\n",
      "Epoch: 6/25... Step: 520... Loss: 1.7561... Val Loss: 1.7401\n",
      "Epoch: 6/25... Step: 530... Loss: 1.7616... Val Loss: 1.7341\n",
      "Epoch: 6/25... Step: 540... Loss: 1.7593... Val Loss: 1.7233\n",
      "Epoch: 6/25... Step: 550... Loss: 1.7274... Val Loss: 1.7196\n",
      "Epoch: 7/25... Step: 560... Loss: 1.7426... Val Loss: 1.7058\n",
      "Epoch: 7/25... Step: 570... Loss: 1.7029... Val Loss: 1.6969\n",
      "Epoch: 7/25... Step: 580... Loss: 1.6841... Val Loss: 1.6849\n",
      "Epoch: 7/25... Step: 590... Loss: 1.7033... Val Loss: 1.6769\n",
      "Epoch: 7/25... Step: 600... Loss: 1.6790... Val Loss: 1.6707\n",
      "Epoch: 7/25... Step: 610... Loss: 1.6779... Val Loss: 1.6703\n",
      "Epoch: 7/25... Step: 620... Loss: 1.6811... Val Loss: 1.6584\n",
      "Epoch: 7/25... Step: 630... Loss: 1.6812... Val Loss: 1.6494\n",
      "Epoch: 7/25... Step: 640... Loss: 1.6476... Val Loss: 1.6451\n",
      "Epoch: 7/25... Step: 650... Loss: 1.6631... Val Loss: 1.6392\n",
      "Epoch: 8/25... Step: 660... Loss: 1.6388... Val Loss: 1.6351\n",
      "Epoch: 8/25... Step: 670... Loss: 1.6393... Val Loss: 1.6237\n",
      "Epoch: 8/25... Step: 680... Loss: 1.6167... Val Loss: 1.6177\n",
      "Epoch: 8/25... Step: 690... Loss: 1.6290... Val Loss: 1.6101\n",
      "Epoch: 8/25... Step: 700... Loss: 1.6407... Val Loss: 1.6096\n",
      "Epoch: 8/25... Step: 710... Loss: 1.6148... Val Loss: 1.6027\n",
      "Epoch: 8/25... Step: 720... Loss: 1.6090... Val Loss: 1.5976\n",
      "Epoch: 8/25... Step: 730... Loss: 1.6006... Val Loss: 1.5905\n",
      "Epoch: 8/25... Step: 740... Loss: 1.6159... Val Loss: 1.5850\n",
      "Epoch: 9/25... Step: 750... Loss: 1.5871... Val Loss: 1.5818\n",
      "Epoch: 9/25... Step: 760... Loss: 1.6094... Val Loss: 1.5750\n",
      "Epoch: 9/25... Step: 770... Loss: 1.5963... Val Loss: 1.5656\n",
      "Epoch: 9/25... Step: 780... Loss: 1.5807... Val Loss: 1.5660\n",
      "Epoch: 9/25... Step: 790... Loss: 1.5694... Val Loss: 1.5585\n",
      "Epoch: 9/25... Step: 800... Loss: 1.5834... Val Loss: 1.5564\n",
      "Epoch: 9/25... Step: 810... Loss: 1.5547... Val Loss: 1.5536\n",
      "Epoch: 9/25... Step: 820... Loss: 1.5819... Val Loss: 1.5459\n",
      "Epoch: 9/25... Step: 830... Loss: 1.5438... Val Loss: 1.5418\n",
      "Epoch: 10/25... Step: 840... Loss: 1.5364... Val Loss: 1.5456\n",
      "Epoch: 10/25... Step: 850... Loss: 1.5630... Val Loss: 1.5367\n",
      "Epoch: 10/25... Step: 860... Loss: 1.5174... Val Loss: 1.5304\n",
      "Epoch: 10/25... Step: 870... Loss: 1.5252... Val Loss: 1.5221\n",
      "Epoch: 10/25... Step: 880... Loss: 1.5074... Val Loss: 1.5225\n",
      "Epoch: 10/25... Step: 890... Loss: 1.5116... Val Loss: 1.5173\n",
      "Epoch: 10/25... Step: 900... Loss: 1.5251... Val Loss: 1.5152\n",
      "Epoch: 10/25... Step: 910... Loss: 1.5150... Val Loss: 1.5103\n",
      "Epoch: 10/25... Step: 920... Loss: 1.4869... Val Loss: 1.5062\n",
      "Epoch: 10/25... Step: 930... Loss: 1.5403... Val Loss: 1.5031\n",
      "Epoch: 11/25... Step: 940... Loss: 1.4708... Val Loss: 1.5038\n",
      "Epoch: 11/25... Step: 950... Loss: 1.4994... Val Loss: 1.4970\n",
      "Epoch: 11/25... Step: 960... Loss: 1.4714... Val Loss: 1.4966\n",
      "Epoch: 11/25... Step: 970... Loss: 1.5081... Val Loss: 1.4927\n",
      "Epoch: 11/25... Step: 980... Loss: 1.4963... Val Loss: 1.4891\n",
      "Epoch: 11/25... Step: 990... Loss: 1.5097... Val Loss: 1.4835\n",
      "Epoch: 11/25... Step: 1000... Loss: 1.4656... Val Loss: 1.4773\n",
      "Epoch: 11/25... Step: 1010... Loss: 1.4868... Val Loss: 1.4750\n",
      "Epoch: 11/25... Step: 1020... Loss: 1.4696... Val Loss: 1.4727\n",
      "Epoch: 12/25... Step: 1030... Loss: 1.4619... Val Loss: 1.4747\n",
      "Epoch: 12/25... Step: 1040... Loss: 1.4453... Val Loss: 1.4690\n",
      "Epoch: 12/25... Step: 1050... Loss: 1.4399... Val Loss: 1.4646\n",
      "Epoch: 12/25... Step: 1060... Loss: 1.4634... Val Loss: 1.4654\n",
      "Epoch: 12/25... Step: 1070... Loss: 1.4512... Val Loss: 1.4597\n",
      "Epoch: 12/25... Step: 1080... Loss: 1.4593... Val Loss: 1.4584\n",
      "Epoch: 12/25... Step: 1090... Loss: 1.4496... Val Loss: 1.4558\n",
      "Epoch: 12/25... Step: 1100... Loss: 1.4608... Val Loss: 1.4544\n",
      "Epoch: 12/25... Step: 1110... Loss: 1.4374... Val Loss: 1.4499\n",
      "Epoch: 13/25... Step: 1120... Loss: 1.4557... Val Loss: 1.4502\n",
      "Epoch: 13/25... Step: 1130... Loss: 1.4599... Val Loss: 1.4428\n",
      "Epoch: 13/25... Step: 1140... Loss: 1.4217... Val Loss: 1.4422\n",
      "Epoch: 13/25... Step: 1150... Loss: 1.4245... Val Loss: 1.4412\n",
      "Epoch: 13/25... Step: 1160... Loss: 1.3972... Val Loss: 1.4349\n",
      "Epoch: 13/25... Step: 1170... Loss: 1.4376... Val Loss: 1.4345\n",
      "Epoch: 13/25... Step: 1180... Loss: 1.4231... Val Loss: 1.4345\n",
      "Epoch: 13/25... Step: 1190... Loss: 1.4323... Val Loss: 1.4286\n",
      "Epoch: 13/25... Step: 1200... Loss: 1.3992... Val Loss: 1.4308\n",
      "Epoch: 14/25... Step: 1210... Loss: 1.4803... Val Loss: 1.4238\n",
      "Epoch: 14/25... Step: 1220... Loss: 1.3861... Val Loss: 1.4237\n",
      "Epoch: 14/25... Step: 1230... Loss: 1.4411... Val Loss: 1.4205\n",
      "Epoch: 14/25... Step: 1240... Loss: 1.3926... Val Loss: 1.4184\n",
      "Epoch: 14/25... Step: 1250... Loss: 1.3940... Val Loss: 1.4214\n",
      "Epoch: 14/25... Step: 1260... Loss: 1.4127... Val Loss: 1.4162\n",
      "Epoch: 14/25... Step: 1270... Loss: 1.4119... Val Loss: 1.4118\n",
      "Epoch: 14/25... Step: 1280... Loss: 1.4094... Val Loss: 1.4112\n",
      "Epoch: 14/25... Step: 1290... Loss: 1.3912... Val Loss: 1.4069\n",
      "Epoch: 14/25... Step: 1300... Loss: 1.3596... Val Loss: 1.4073\n",
      "Epoch: 15/25... Step: 1310... Loss: 1.3792... Val Loss: 1.4050\n",
      "Epoch: 15/25... Step: 1320... Loss: 1.3999... Val Loss: 1.4082\n",
      "Epoch: 15/25... Step: 1330... Loss: 1.3627... Val Loss: 1.4008\n",
      "Epoch: 15/25... Step: 1340... Loss: 1.3990... Val Loss: 1.4026\n"
     ]
    },
    {
     "name": "stdout",
     "output_type": "stream",
     "text": [
      "Epoch: 15/25... Step: 1350... Loss: 1.3917... Val Loss: 1.4009\n",
      "Epoch: 15/25... Step: 1360... Loss: 1.3596... Val Loss: 1.3999\n",
      "Epoch: 15/25... Step: 1370... Loss: 1.3949... Val Loss: 1.3958\n",
      "Epoch: 15/25... Step: 1380... Loss: 1.3811... Val Loss: 1.3938\n",
      "Epoch: 15/25... Step: 1390... Loss: 1.3980... Val Loss: 1.3928\n",
      "Epoch: 16/25... Step: 1400... Loss: 1.3636... Val Loss: 1.3907\n",
      "Epoch: 16/25... Step: 1410... Loss: 1.4096... Val Loss: 1.3856\n",
      "Epoch: 16/25... Step: 1420... Loss: 1.3780... Val Loss: 1.3908\n",
      "Epoch: 16/25... Step: 1430... Loss: 1.3886... Val Loss: 1.3846\n",
      "Epoch: 16/25... Step: 1440... Loss: 1.3377... Val Loss: 1.3839\n",
      "Epoch: 16/25... Step: 1450... Loss: 1.3636... Val Loss: 1.3826\n",
      "Epoch: 16/25... Step: 1460... Loss: 1.3605... Val Loss: 1.3858\n",
      "Epoch: 16/25... Step: 1470... Loss: 1.3762... Val Loss: 1.3790\n",
      "Epoch: 16/25... Step: 1480... Loss: 1.3479... Val Loss: 1.3794\n",
      "Epoch: 17/25... Step: 1490... Loss: 1.3875... Val Loss: 1.3766\n",
      "Epoch: 17/25... Step: 1500... Loss: 1.3359... Val Loss: 1.3783\n",
      "Epoch: 17/25... Step: 1510... Loss: 1.3320... Val Loss: 1.3770\n",
      "Epoch: 17/25... Step: 1520... Loss: 1.3500... Val Loss: 1.3770\n",
      "Epoch: 17/25... Step: 1530... Loss: 1.3359... Val Loss: 1.3747\n",
      "Epoch: 17/25... Step: 1540... Loss: 1.3402... Val Loss: 1.3703\n",
      "Epoch: 17/25... Step: 1550... Loss: 1.3416... Val Loss: 1.3670\n",
      "Epoch: 17/25... Step: 1560... Loss: 1.3477... Val Loss: 1.3679\n",
      "Epoch: 17/25... Step: 1570... Loss: 1.3193... Val Loss: 1.3646\n",
      "Epoch: 17/25... Step: 1580... Loss: 1.3436... Val Loss: 1.3642\n",
      "Epoch: 18/25... Step: 1590... Loss: 1.3273... Val Loss: 1.3633\n",
      "Epoch: 18/25... Step: 1600... Loss: 1.3332... Val Loss: 1.3631\n",
      "Epoch: 18/25... Step: 1610... Loss: 1.3035... Val Loss: 1.3588\n",
      "Epoch: 18/25... Step: 1620... Loss: 1.3465... Val Loss: 1.3634\n",
      "Epoch: 18/25... Step: 1630... Loss: 1.3381... Val Loss: 1.3605\n",
      "Epoch: 18/25... Step: 1640... Loss: 1.3271... Val Loss: 1.3584\n",
      "Epoch: 18/25... Step: 1650... Loss: 1.3329... Val Loss: 1.3571\n",
      "Epoch: 18/25... Step: 1660... Loss: 1.3084... Val Loss: 1.3582\n",
      "Epoch: 18/25... Step: 1670... Loss: 1.3397... Val Loss: 1.3578\n",
      "Epoch: 19/25... Step: 1680... Loss: 1.3164... Val Loss: 1.3565\n",
      "Epoch: 19/25... Step: 1690... Loss: 1.3420... Val Loss: 1.3493\n",
      "Epoch: 19/25... Step: 1700... Loss: 1.3258... Val Loss: 1.3524\n",
      "Epoch: 19/25... Step: 1710... Loss: 1.3143... Val Loss: 1.3521\n",
      "Epoch: 19/25... Step: 1720... Loss: 1.3007... Val Loss: 1.3550\n",
      "Epoch: 19/25... Step: 1730... Loss: 1.3288... Val Loss: 1.3517\n",
      "Epoch: 19/25... Step: 1740... Loss: 1.3046... Val Loss: 1.3523\n",
      "Epoch: 19/25... Step: 1750... Loss: 1.3267... Val Loss: 1.3468\n",
      "Epoch: 19/25... Step: 1760... Loss: 1.2962... Val Loss: 1.3501\n",
      "Epoch: 20/25... Step: 1770... Loss: 1.2899... Val Loss: 1.3442\n",
      "Epoch: 20/25... Step: 1780... Loss: 1.3232... Val Loss: 1.3441\n",
      "Epoch: 20/25... Step: 1790... Loss: 1.2885... Val Loss: 1.3430\n",
      "Epoch: 20/25... Step: 1800... Loss: 1.2890... Val Loss: 1.3455\n",
      "Epoch: 20/25... Step: 1810... Loss: 1.2733... Val Loss: 1.3439\n",
      "Epoch: 20/25... Step: 1820... Loss: 1.2772... Val Loss: 1.3452\n",
      "Epoch: 20/25... Step: 1830... Loss: 1.3022... Val Loss: 1.3374\n",
      "Epoch: 20/25... Step: 1840... Loss: 1.2946... Val Loss: 1.3380\n",
      "Epoch: 20/25... Step: 1850... Loss: 1.2694... Val Loss: 1.3350\n",
      "Epoch: 20/25... Step: 1860... Loss: 1.3409... Val Loss: 1.3374\n",
      "Epoch: 21/25... Step: 1870... Loss: 1.2649... Val Loss: 1.3355\n",
      "Epoch: 21/25... Step: 1880... Loss: 1.2946... Val Loss: 1.3363\n",
      "Epoch: 21/25... Step: 1890... Loss: 1.2715... Val Loss: 1.3344\n",
      "Epoch: 21/25... Step: 1900... Loss: 1.2990... Val Loss: 1.3384\n",
      "Epoch: 21/25... Step: 1910... Loss: 1.2982... Val Loss: 1.3328\n",
      "Epoch: 21/25... Step: 1920... Loss: 1.3137... Val Loss: 1.3287\n",
      "Epoch: 21/25... Step: 1930... Loss: 1.2773... Val Loss: 1.3306\n",
      "Epoch: 21/25... Step: 1940... Loss: 1.2918... Val Loss: 1.3294\n",
      "Epoch: 21/25... Step: 1950... Loss: 1.2931... Val Loss: 1.3320\n",
      "Epoch: 22/25... Step: 1960... Loss: 1.2719... Val Loss: 1.3342\n",
      "Epoch: 22/25... Step: 1970... Loss: 1.2579... Val Loss: 1.3276\n",
      "Epoch: 22/25... Step: 1980... Loss: 1.2493... Val Loss: 1.3265\n",
      "Epoch: 22/25... Step: 1990... Loss: 1.2861... Val Loss: 1.3281\n",
      "Epoch: 22/25... Step: 2000... Loss: 1.2688... Val Loss: 1.3321\n",
      "Epoch: 22/25... Step: 2010... Loss: 1.2881... Val Loss: 1.3299\n",
      "Epoch: 22/25... Step: 2020... Loss: 1.2647... Val Loss: 1.3274\n",
      "Epoch: 22/25... Step: 2030... Loss: 1.2954... Val Loss: 1.3244\n",
      "Epoch: 22/25... Step: 2040... Loss: 1.2672... Val Loss: 1.3274\n",
      "Epoch: 23/25... Step: 2050... Loss: 1.2756... Val Loss: 1.3260\n",
      "Epoch: 23/25... Step: 2060... Loss: 1.3003... Val Loss: 1.3209\n",
      "Epoch: 23/25... Step: 2070... Loss: 1.2547... Val Loss: 1.3205\n",
      "Epoch: 23/25... Step: 2080... Loss: 1.2637... Val Loss: 1.3214\n",
      "Epoch: 23/25... Step: 2090... Loss: 1.2355... Val Loss: 1.3221\n",
      "Epoch: 23/25... Step: 2100... Loss: 1.2807... Val Loss: 1.3218\n",
      "Epoch: 23/25... Step: 2110... Loss: 1.2553... Val Loss: 1.3159\n",
      "Epoch: 23/25... Step: 2120... Loss: 1.2776... Val Loss: 1.3152\n",
      "Epoch: 23/25... Step: 2130... Loss: 1.2532... Val Loss: 1.3153\n",
      "Epoch: 24/25... Step: 2140... Loss: 1.3252... Val Loss: 1.3148\n",
      "Epoch: 24/25... Step: 2150... Loss: 1.2289... Val Loss: 1.3144\n",
      "Epoch: 24/25... Step: 2160... Loss: 1.2871... Val Loss: 1.3145\n",
      "Epoch: 24/25... Step: 2170... Loss: 1.2359... Val Loss: 1.3137\n",
      "Epoch: 24/25... Step: 2180... Loss: 1.2390... Val Loss: 1.3160\n",
      "Epoch: 24/25... Step: 2190... Loss: 1.2538... Val Loss: 1.3162\n",
      "Epoch: 24/25... Step: 2200... Loss: 1.2622... Val Loss: 1.3139\n",
      "Epoch: 24/25... Step: 2210... Loss: 1.2645... Val Loss: 1.3159\n",
      "Epoch: 24/25... Step: 2220... Loss: 1.2442... Val Loss: 1.3120\n",
      "Epoch: 24/25... Step: 2230... Loss: 1.2220... Val Loss: 1.3153\n",
      "Epoch: 25/25... Step: 2240... Loss: 1.2208... Val Loss: 1.3133\n",
      "Epoch: 25/25... Step: 2250... Loss: 1.2606... Val Loss: 1.3037\n",
      "Epoch: 25/25... Step: 2260... Loss: 1.2204... Val Loss: 1.3078\n",
      "Epoch: 25/25... Step: 2270... Loss: 1.2620... Val Loss: 1.3093\n",
      "Epoch: 25/25... Step: 2280... Loss: 1.2470... Val Loss: 1.3127\n",
      "Epoch: 25/25... Step: 2290... Loss: 1.2271... Val Loss: 1.3088\n",
      "Epoch: 25/25... Step: 2300... Loss: 1.2553... Val Loss: 1.3089\n",
      "Epoch: 25/25... Step: 2310... Loss: 1.2437... Val Loss: 1.3074\n",
      "Epoch: 25/25... Step: 2320... Loss: 1.2493... Val Loss: 1.3101\n"
     ]
    }
   ],
   "source": [
    "batch_size = 150\n",
    "seq_length = 128\n",
    "n_epochs =  25# start small if you are just testing initial behavior\n",
    "\n",
    "# train the model\n",
    "train(net, encoded, epochs=n_epochs, batch_size=batch_size, seq_length=seq_length, lr=0.001, print_every=10)"
   ]
  },
  {
   "cell_type": "markdown",
   "metadata": {},
   "source": [
    "## Getting the best model\n",
    "\n",
    "To set your hyperparameters to get the best performance, you'll want to watch the training and validation losses. If your training loss is much lower than the validation loss, you're overfitting. Increase regularization (more dropout) or use a smaller network. If the training and validation losses are close, you're underfitting so you can increase the size of the network."
   ]
  },
  {
   "cell_type": "markdown",
   "metadata": {},
   "source": [
    "## Hyperparameters\n",
    "\n",
    "Here are the hyperparameters for the network.\n",
    "\n",
    "In defining the model:\n",
    "* `n_hidden` - The number of units in the hidden layers.\n",
    "* `n_layers` - Number of hidden LSTM layers to use.\n",
    "\n",
    "We assume that dropout probability and learning rate will be kept at the default, in this example.\n",
    "\n",
    "And in training:\n",
    "* `batch_size` - Number of sequences running through the network in one pass.\n",
    "* `seq_length` - Number of characters in the sequence the network is trained on. Larger is better typically, the network will learn more long range dependencies. But it takes longer to train. 100 is typically a good number here.\n",
    "* `lr` - Learning rate for training\n",
    "\n",
    "Here's some good advice from Andrej Karpathy on training the network. I'm going to copy it in here for your benefit, but also link to [where it originally came from](https://github.com/karpathy/char-rnn#tips-and-tricks).\n",
    "\n",
    "> ## Tips and Tricks\n",
    "\n",
    ">### Monitoring Validation Loss vs. Training Loss\n",
    ">If you're somewhat new to Machine Learning or Neural Networks it can take a bit of expertise to get good models. The most important quantity to keep track of is the difference between your training loss (printed during training) and the validation loss (printed once in a while when the RNN is run on the validation data (by default every 1000 iterations)). In particular:\n",
    "\n",
    "> - If your training loss is much lower than validation loss then this means the network might be **overfitting**. Solutions to this are to decrease your network size, or to increase dropout. For example you could try dropout of 0.5 and so on.\n",
    "> - If your training/validation loss are about equal then your model is **underfitting**. Increase the size of your model (either number of layers or the raw number of neurons per layer)\n",
    "\n",
    "> ### Approximate number of parameters\n",
    "\n",
    "> The two most important parameters that control the model are `n_hidden` and `n_layers`. I would advise that you always use `n_layers` of either 2/3. The `n_hidden` can be adjusted based on how much data you have. The two important quantities to keep track of here are:\n",
    "\n",
    "> - The number of parameters in your model. This is printed when you start training.\n",
    "> - The size of your dataset. 1MB file is approximately 1 million characters.\n",
    "\n",
    ">These two should be about the same order of magnitude. It's a little tricky to tell. Here are some examples:\n",
    "\n",
    "> - I have a 100MB dataset and I'm using the default parameter settings (which currently print 150K parameters). My data size is significantly larger (100 mil >> 0.15 mil), so I expect to heavily underfit. I am thinking I can comfortably afford to make `n_hidden` larger.\n",
    "> - I have a 10MB dataset and running a 10 million parameter model. I'm slightly nervous and I'm carefully monitoring my validation loss. If it's larger than my training loss then I may want to try to increase dropout a bit and see if that helps the validation loss.\n",
    "\n",
    "> ### Best models strategy\n",
    "\n",
    ">The winning strategy to obtaining very good models (if you have the compute time) is to always err on making the network larger (as large as you're willing to wait for it to compute) and then try different dropout values (between 0,1). Whatever model has the best validation performance (the loss, written in the checkpoint filename, low is good) is the one you should use in the end.\n",
    "\n",
    ">It is very common in deep learning to run many different models with many different hyperparameter settings, and in the end take whatever checkpoint gave the best validation performance.\n",
    "\n",
    ">By the way, the size of your training and validation splits are also parameters. Make sure you have a decent amount of data in your validation set or otherwise the validation performance will be noisy and not very informative."
   ]
  },
  {
   "cell_type": "markdown",
   "metadata": {},
   "source": [
    "## Checkpoint\n",
    "\n",
    "After training, we'll save the model so we can load it again later if we need too. Here I'm saving the parameters needed to create the same architecture, the hidden layer hyperparameters and the text characters."
   ]
  },
  {
   "cell_type": "code",
   "execution_count": 16,
   "metadata": {},
   "outputs": [],
   "source": [
    "# change the name, for saving multiple files\n",
    "model_name = 'rnn_25_epoch.net'\n",
    "\n",
    "checkpoint = {'n_hidden': net.n_hidden,\n",
    "              'n_layers': net.n_layers,\n",
    "              'state_dict': net.state_dict(),\n",
    "              'tokens': net.chars}\n",
    "\n",
    "with open(model_name, 'wb') as f:\n",
    "    torch.save(checkpoint, f)"
   ]
  },
  {
   "cell_type": "markdown",
   "metadata": {},
   "source": [
    "---\n",
    "## Making Predictions\n",
    "\n",
    "Now that the model is trained, we'll want to sample from it and make predictions about next characters! To sample, we pass in a character and have the network predict the next character. Then we take that character, pass it back in, and get another predicted character. Just keep doing this and you'll generate a bunch of text!\n",
    "\n",
    "### A note on the `predict`  function\n",
    "\n",
    "The output of our RNN is from a fully-connected layer and it outputs a **distribution of next-character scores**.\n",
    "\n",
    "> To actually get the next character, we apply a softmax function, which gives us a *probability* distribution that we can then sample to predict the next character.\n",
    "\n",
    "### Top K sampling\n",
    "\n",
    "Our predictions come from a categorical probability distribution over all the possible characters. We can make the sample text and make it more reasonable to handle (with less variables) by only considering some $K$ most probable characters. This will prevent the network from giving us completely absurd characters while allowing it to introduce some noise and randomness into the sampled text. Read more about [topk, here](https://pytorch.org/docs/stable/torch.html#torch.topk).\n"
   ]
  },
  {
   "cell_type": "code",
   "execution_count": 17,
   "metadata": {},
   "outputs": [],
   "source": [
    "def predict(net, char, h=None, top_k=None):\n",
    "        ''' Given a character, predict the next character.\n",
    "            Returns the predicted character and the hidden state.\n",
    "        '''\n",
    "        \n",
    "        # tensor inputs\n",
    "        x = np.array([[net.char2int[char]]])\n",
    "        x = one_hot_encode(x, len(net.chars))\n",
    "        inputs = torch.from_numpy(x)\n",
    "        \n",
    "        if(train_on_gpu):\n",
    "            inputs = inputs.cuda()\n",
    "        \n",
    "        # detach hidden state from history\n",
    "        h = tuple([each.data for each in h])\n",
    "        # get the output of the model\n",
    "        out, h = net(inputs, h)\n",
    "\n",
    "        # get the character probabilities\n",
    "        p = F.softmax(out, dim=1).data\n",
    "        if(train_on_gpu):\n",
    "            p = p.cpu() # move to cpu\n",
    "        \n",
    "        # get top characters\n",
    "        if top_k is None:\n",
    "            top_ch = np.arange(len(net.chars))\n",
    "        else:\n",
    "            p, top_ch = p.topk(top_k)\n",
    "            top_ch = top_ch.numpy().squeeze()\n",
    "        \n",
    "        # select the likely next character with some element of randomness\n",
    "        p = p.numpy().squeeze()\n",
    "        char = np.random.choice(top_ch, p=p/p.sum())\n",
    "        \n",
    "        # return the encoded value of the predicted char and the hidden state\n",
    "        return net.int2char[char], h"
   ]
  },
  {
   "cell_type": "markdown",
   "metadata": {},
   "source": [
    "### Priming and generating text \n",
    "\n",
    "Typically you'll want to prime the network so you can build up a hidden state. Otherwise the network will start out generating characters at random. In general the first bunch of characters will be a little rough since it hasn't built up a long history of characters to predict from."
   ]
  },
  {
   "cell_type": "code",
   "execution_count": 18,
   "metadata": {},
   "outputs": [],
   "source": [
    "def sample(net, size, prime='The', top_k=None):\n",
    "        \n",
    "    if(train_on_gpu):\n",
    "        net.cuda()\n",
    "    else:\n",
    "        net.cpu()\n",
    "    \n",
    "    net.eval() # eval mode\n",
    "    \n",
    "    # First off, run through the prime characters\n",
    "    chars = [ch for ch in prime]\n",
    "    h = net.init_hidden(1)\n",
    "    for ch in prime:\n",
    "        char, h = predict(net, ch, h, top_k=top_k)\n",
    "\n",
    "    chars.append(char)\n",
    "    \n",
    "    # Now pass in the previous character and get a new one\n",
    "    for ii in range(size):\n",
    "        char, h = predict(net, chars[-1], h, top_k=top_k)\n",
    "        chars.append(char)\n",
    "\n",
    "    return ''.join(chars)"
   ]
  },
  {
   "cell_type": "code",
   "execution_count": 19,
   "metadata": {},
   "outputs": [
    {
     "name": "stdout",
     "output_type": "stream",
     "text": [
      "Anna, was not to go into his ball, and was not\n",
      "an acquitite to her, and\n",
      "asking her sister's and strange that she had been alone\n",
      "that she had a party of the\n",
      "carriage in his beauty with a corract of the starpases with a smire of something\n",
      "tears, and had not been too anything, all the crusture were statting on the pridcess in a finest\n",
      "the chandent teat of the sound of his wisher of her\n",
      "eyes,\n",
      "and she could not go. He had took out the princess, still the mare, and a post the stipe. To the carriage, he had the subject in the same son were commontese famelid, with a barsh of a consciousness of her sores and some work, that he did\n",
      "not help to be, and so his head had been a servants of the man they was at the\n",
      "closer of this words as he was a postion in the first dinner.\n",
      "\n",
      "Though it had been disposed, he could not be so saked out of their place. He had a conviction though their princess assempt to her\n",
      "son. The\n",
      "steps of the praces to be succerded in her brother, and so\n",
      "in spite of what had no certain s\n"
     ]
    }
   ],
   "source": [
    "print(sample(net, 1000, prime='Anna', top_k=5))"
   ]
  },
  {
   "cell_type": "markdown",
   "metadata": {},
   "source": [
    "## Loading a checkpoint"
   ]
  },
  {
   "cell_type": "code",
   "execution_count": 20,
   "metadata": {},
   "outputs": [],
   "source": [
    "# Here we have loaded in a model that trained over 20 epochs `rnn_20_epoch.net`\n",
    "with open('rnn_25_epoch.net', 'rb') as f:\n",
    "    checkpoint = torch.load(f)\n",
    "    \n",
    "loaded = CharRNN(checkpoint['tokens'], n_hidden=checkpoint['n_hidden'], n_layers=checkpoint['n_layers'])\n",
    "loaded.load_state_dict(checkpoint['state_dict'])"
   ]
  },
  {
   "cell_type": "code",
   "execution_count": 21,
   "metadata": {},
   "outputs": [
    {
     "name": "stdout",
     "output_type": "stream",
     "text": [
      "And Levin said the solitary as he saw that it was not in the carriage, and he was asked what he had been distinctuned her for a facture of sing him that it was the sollents of the carriage, humely took the place.\n",
      "\n",
      "\"I don't like it,\" said Levin. \"I had not a met of my son. I am after the cold mother will have\n",
      "ten to so that you couldn't care to spend our point of the moment.\"\n",
      "\n",
      "\"Yes! I don't say.\"\n",
      "\n",
      "\"Why's a painful show it is the on the charm, I shall be all in the property on the personarte,\" he said someone\n",
      "from the\n",
      "convisceing and house, where the conversation to be\n",
      "stroked her.\n",
      "\n",
      "\"You know her.\"\n",
      "\n",
      "Levin saw in her his and their conversation was not thinking that her hand had asked him that she would be the position he had at the chance.\n",
      "\n",
      "\"What were you already? Ye leave,\"\n",
      "said Vronsky. \"What? where's nothing to be so it?\"\n",
      "\n",
      "\"I am strong for make a creature,\" said Alexey Alexandrovitch,\n",
      "story.\n",
      "\n",
      "\"You want to see your learned, what a people word to see you,\" said Vronsky asking his face with husband, \"and I had the\n",
      "carefold of that this court of his brother's, a low mind and definite,\" he said, and\n",
      "he had settled the same time and that, this, that serent he was talking to the conversation would have a generred\n",
      "back, and that the white sight that was not a last tome than the supposition that shurd the\n",
      "people and his hands, with which he\n",
      "was already\n",
      "was the same still as tell the contrary, who still\n",
      "here for what he saw the fourse, and that intone of the door they could not see and that that's the\n",
      "silent of the members were three one answer. So a complete\n",
      "settles had been\n",
      "there, so that he had asked her. They were so many of the\n",
      "death of the conversation with her that hear and all he was always for the peasant.\n",
      "\n",
      "\"Yes,\n",
      "yes, I did not believe you to bold to some fact as it would have bathed but it it as they will bat for\n",
      "her finder, and have this doctor's studies to how he has so as to be they and her arrangest for\n",
      "a love of mide out of her some sorts, having contented to the\n",
      "stard, and t\n"
     ]
    }
   ],
   "source": [
    "# Sample using a loaded model\n",
    "print(sample(loaded, 2000, top_k=5, prime=\"And Levin said\"))"
   ]
  },
  {
   "cell_type": "code",
   "execution_count": null,
   "metadata": {
    "collapsed": true
   },
   "outputs": [],
   "source": []
  }
 ],
 "metadata": {
  "kernelspec": {
   "display_name": "Python 3",
   "language": "python",
   "name": "python3"
  },
  "language_info": {
   "codemirror_mode": {
    "name": "ipython",
    "version": 3
   },
   "file_extension": ".py",
   "mimetype": "text/x-python",
   "name": "python",
   "nbconvert_exporter": "python",
   "pygments_lexer": "ipython3",
   "version": "3.6.3"
  }
 },
 "nbformat": 4,
 "nbformat_minor": 2
}
